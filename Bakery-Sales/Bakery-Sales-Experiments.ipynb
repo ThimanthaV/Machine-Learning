{
 "cells": [
  {
   "cell_type": "code",
   "execution_count": 1,
   "metadata": {},
   "outputs": [],
   "source": [
    "import pandas as pd\n",
    "import datetime as dt\n",
    "import sklearn.model_selection as skms\n",
    "import sklearn.preprocessing as skp\n",
    "import sklearn.linear_model as sklm\n",
    "from sklearn.tree import DecisionTreeRegressor \n",
    "from sklearn.ensemble import RandomForestRegressor\n",
    "from sklearn.metrics import mean_squared_error,r2_score"
   ]
  },
  {
   "cell_type": "code",
   "execution_count": 122,
   "metadata": {},
   "outputs": [],
   "source": [
    "bakery_sales_dataset=pd.read_csv(r'D:\\Thimantha\\Documents2\\Data Science\\Bakery-Sales.csv')"
   ]
  },
  {
   "cell_type": "code",
   "execution_count": 123,
   "metadata": {},
   "outputs": [
    {
     "data": {
      "text/html": [
       "<div>\n",
       "<style scoped>\n",
       "    .dataframe tbody tr th:only-of-type {\n",
       "        vertical-align: middle;\n",
       "    }\n",
       "\n",
       "    .dataframe tbody tr th {\n",
       "        vertical-align: top;\n",
       "    }\n",
       "\n",
       "    .dataframe thead th {\n",
       "        text-align: right;\n",
       "    }\n",
       "</style>\n",
       "<table border=\"1\" class=\"dataframe\">\n",
       "  <thead>\n",
       "    <tr style=\"text-align: right;\">\n",
       "      <th></th>\n",
       "      <th>Sales_Date</th>\n",
       "      <th>Sales_Quarter</th>\n",
       "      <th>Sales_Item</th>\n",
       "      <th>Quantity</th>\n",
       "    </tr>\n",
       "  </thead>\n",
       "  <tbody>\n",
       "    <tr>\n",
       "      <th>0</th>\n",
       "      <td>2016-11-09</td>\n",
       "      <td>3</td>\n",
       "      <td>Adjustment</td>\n",
       "      <td>1</td>\n",
       "    </tr>\n",
       "    <tr>\n",
       "      <th>1</th>\n",
       "      <td>2017-01-06</td>\n",
       "      <td>3</td>\n",
       "      <td>Afternoon with the baker</td>\n",
       "      <td>1</td>\n",
       "    </tr>\n",
       "    <tr>\n",
       "      <th>2</th>\n",
       "      <td>2017-01-07</td>\n",
       "      <td>3</td>\n",
       "      <td>Afternoon with the baker</td>\n",
       "      <td>1</td>\n",
       "    </tr>\n",
       "    <tr>\n",
       "      <th>3</th>\n",
       "      <td>2017-01-08</td>\n",
       "      <td>3</td>\n",
       "      <td>Afternoon with the baker</td>\n",
       "      <td>1</td>\n",
       "    </tr>\n",
       "    <tr>\n",
       "      <th>4</th>\n",
       "      <td>2017-01-11</td>\n",
       "      <td>3</td>\n",
       "      <td>Afternoon with the baker</td>\n",
       "      <td>2</td>\n",
       "    </tr>\n",
       "  </tbody>\n",
       "</table>\n",
       "</div>"
      ],
      "text/plain": [
       "   Sales_Date  Sales_Quarter                Sales_Item  Quantity\n",
       "0  2016-11-09              3                Adjustment         1\n",
       "1  2017-01-06              3  Afternoon with the baker         1\n",
       "2  2017-01-07              3  Afternoon with the baker         1\n",
       "3  2017-01-08              3  Afternoon with the baker         1\n",
       "4  2017-01-11              3  Afternoon with the baker         2"
      ]
     },
     "execution_count": 123,
     "metadata": {},
     "output_type": "execute_result"
    }
   ],
   "source": [
    "bakery_sales_dataset.head()"
   ]
  },
  {
   "cell_type": "code",
   "execution_count": 124,
   "metadata": {},
   "outputs": [
    {
     "data": {
      "text/html": [
       "<div>\n",
       "<style scoped>\n",
       "    .dataframe tbody tr th:only-of-type {\n",
       "        vertical-align: middle;\n",
       "    }\n",
       "\n",
       "    .dataframe tbody tr th {\n",
       "        vertical-align: top;\n",
       "    }\n",
       "\n",
       "    .dataframe thead th {\n",
       "        text-align: right;\n",
       "    }\n",
       "</style>\n",
       "<table border=\"1\" class=\"dataframe\">\n",
       "  <thead>\n",
       "    <tr style=\"text-align: right;\">\n",
       "      <th></th>\n",
       "      <th>Sales_Date</th>\n",
       "      <th>Sales_Quarter</th>\n",
       "      <th>Sales_Item</th>\n",
       "      <th>Quantity</th>\n",
       "    </tr>\n",
       "  </thead>\n",
       "  <tbody>\n",
       "    <tr>\n",
       "      <th>5471</th>\n",
       "      <td>2016-10-30</td>\n",
       "      <td>3</td>\n",
       "      <td>Victorian Sponge</td>\n",
       "      <td>1</td>\n",
       "    </tr>\n",
       "    <tr>\n",
       "      <th>5472</th>\n",
       "      <td>2016-11-01</td>\n",
       "      <td>2</td>\n",
       "      <td>Victorian Sponge</td>\n",
       "      <td>1</td>\n",
       "    </tr>\n",
       "    <tr>\n",
       "      <th>5473</th>\n",
       "      <td>2016-11-05</td>\n",
       "      <td>2</td>\n",
       "      <td>Victorian Sponge</td>\n",
       "      <td>1</td>\n",
       "    </tr>\n",
       "    <tr>\n",
       "      <th>5474</th>\n",
       "      <td>2016-11-06</td>\n",
       "      <td>3</td>\n",
       "      <td>Victorian Sponge</td>\n",
       "      <td>1</td>\n",
       "    </tr>\n",
       "    <tr>\n",
       "      <th>5475</th>\n",
       "      <td>2016-11-16</td>\n",
       "      <td>3</td>\n",
       "      <td>Victorian Sponge</td>\n",
       "      <td>1</td>\n",
       "    </tr>\n",
       "  </tbody>\n",
       "</table>\n",
       "</div>"
      ],
      "text/plain": [
       "      Sales_Date  Sales_Quarter        Sales_Item  Quantity\n",
       "5471  2016-10-30              3  Victorian Sponge         1\n",
       "5472  2016-11-01              2  Victorian Sponge         1\n",
       "5473  2016-11-05              2  Victorian Sponge         1\n",
       "5474  2016-11-06              3  Victorian Sponge         1\n",
       "5475  2016-11-16              3  Victorian Sponge         1"
      ]
     },
     "execution_count": 124,
     "metadata": {},
     "output_type": "execute_result"
    }
   ],
   "source": [
    "bakery_sales_dataset.tail()"
   ]
  },
  {
   "cell_type": "code",
   "execution_count": 125,
   "metadata": {},
   "outputs": [
    {
     "data": {
      "text/plain": [
       "Sales_Date       object\n",
       "Sales_Quarter     int64\n",
       "Sales_Item       object\n",
       "Quantity          int64\n",
       "dtype: object"
      ]
     },
     "execution_count": 125,
     "metadata": {},
     "output_type": "execute_result"
    }
   ],
   "source": [
    "bakery_sales_dataset.dtypes"
   ]
  },
  {
   "cell_type": "code",
   "execution_count": 126,
   "metadata": {},
   "outputs": [],
   "source": [
    "bakery_sales_dataset['Sales_Date']=pd.to_datetime(bakery_sales_dataset['Sales_Date'])"
   ]
  },
  {
   "cell_type": "code",
   "execution_count": 127,
   "metadata": {},
   "outputs": [],
   "source": [
    "bakery_sales_dataset['Sales_Date']=bakery_sales_dataset['Sales_Date'].map(dt.datetime.toordinal)"
   ]
  },
  {
   "cell_type": "code",
   "execution_count": 128,
   "metadata": {},
   "outputs": [
    {
     "data": {
      "text/html": [
       "<div>\n",
       "<style scoped>\n",
       "    .dataframe tbody tr th:only-of-type {\n",
       "        vertical-align: middle;\n",
       "    }\n",
       "\n",
       "    .dataframe tbody tr th {\n",
       "        vertical-align: top;\n",
       "    }\n",
       "\n",
       "    .dataframe thead th {\n",
       "        text-align: right;\n",
       "    }\n",
       "</style>\n",
       "<table border=\"1\" class=\"dataframe\">\n",
       "  <thead>\n",
       "    <tr style=\"text-align: right;\">\n",
       "      <th></th>\n",
       "      <th>Sales_Date</th>\n",
       "      <th>Sales_Quarter</th>\n",
       "      <th>Sales_Item</th>\n",
       "      <th>Quantity</th>\n",
       "    </tr>\n",
       "  </thead>\n",
       "  <tbody>\n",
       "    <tr>\n",
       "      <th>0</th>\n",
       "      <td>736277</td>\n",
       "      <td>3</td>\n",
       "      <td>Adjustment</td>\n",
       "      <td>1</td>\n",
       "    </tr>\n",
       "    <tr>\n",
       "      <th>1</th>\n",
       "      <td>736335</td>\n",
       "      <td>3</td>\n",
       "      <td>Afternoon with the baker</td>\n",
       "      <td>1</td>\n",
       "    </tr>\n",
       "    <tr>\n",
       "      <th>2</th>\n",
       "      <td>736336</td>\n",
       "      <td>3</td>\n",
       "      <td>Afternoon with the baker</td>\n",
       "      <td>1</td>\n",
       "    </tr>\n",
       "    <tr>\n",
       "      <th>3</th>\n",
       "      <td>736337</td>\n",
       "      <td>3</td>\n",
       "      <td>Afternoon with the baker</td>\n",
       "      <td>1</td>\n",
       "    </tr>\n",
       "    <tr>\n",
       "      <th>4</th>\n",
       "      <td>736340</td>\n",
       "      <td>3</td>\n",
       "      <td>Afternoon with the baker</td>\n",
       "      <td>2</td>\n",
       "    </tr>\n",
       "  </tbody>\n",
       "</table>\n",
       "</div>"
      ],
      "text/plain": [
       "   Sales_Date  Sales_Quarter                Sales_Item  Quantity\n",
       "0      736277              3                Adjustment         1\n",
       "1      736335              3  Afternoon with the baker         1\n",
       "2      736336              3  Afternoon with the baker         1\n",
       "3      736337              3  Afternoon with the baker         1\n",
       "4      736340              3  Afternoon with the baker         2"
      ]
     },
     "execution_count": 128,
     "metadata": {},
     "output_type": "execute_result"
    }
   ],
   "source": [
    "bakery_sales_dataset.head()"
   ]
  },
  {
   "cell_type": "code",
   "execution_count": 129,
   "metadata": {},
   "outputs": [
    {
     "data": {
      "text/plain": [
       "Sales_Date        int64\n",
       "Sales_Quarter     int64\n",
       "Sales_Item       object\n",
       "Quantity          int64\n",
       "dtype: object"
      ]
     },
     "execution_count": 129,
     "metadata": {},
     "output_type": "execute_result"
    }
   ],
   "source": [
    "bakery_sales_dataset.dtypes"
   ]
  },
  {
   "cell_type": "code",
   "execution_count": 91,
   "metadata": {},
   "outputs": [],
   "source": [
    "#bakery_sales_dataset['Sales_Quarter']=bakery_sales_dataset['Sales_Quarter'].astype('category')\n",
    "#bakery_sales_dataset['Sales_Item']=bakery_sales_dataset['Sales_Item'].astype('category')"
   ]
  },
  {
   "cell_type": "code",
   "execution_count": 130,
   "metadata": {},
   "outputs": [
    {
     "data": {
      "text/plain": [
       "Sales_Date        int64\n",
       "Sales_Quarter     int64\n",
       "Sales_Item       object\n",
       "Quantity          int64\n",
       "dtype: object"
      ]
     },
     "execution_count": 130,
     "metadata": {},
     "output_type": "execute_result"
    }
   ],
   "source": [
    "bakery_sales_dataset.dtypes"
   ]
  },
  {
   "cell_type": "code",
   "execution_count": 131,
   "metadata": {},
   "outputs": [],
   "source": [
    "x=bakery_sales_dataset.loc[:,['Sales_Date','Sales_Quarter','Sales_Item']]"
   ]
  },
  {
   "cell_type": "code",
   "execution_count": 132,
   "metadata": {},
   "outputs": [],
   "source": [
    "y=bakery_sales_dataset.loc[:,['Quantity']]"
   ]
  },
  {
   "cell_type": "code",
   "execution_count": 133,
   "metadata": {},
   "outputs": [
    {
     "name": "stdout",
     "output_type": "stream",
     "text": [
      "(5476, 3)\n"
     ]
    }
   ],
   "source": [
    "label_encoder=skp.LabelEncoder()\n",
    "print(x.shape)"
   ]
  },
  {
   "cell_type": "code",
   "execution_count": 134,
   "metadata": {},
   "outputs": [],
   "source": [
    "x['Sales_Item']=label_encoder.fit_transform(x['Sales_Item'])"
   ]
  },
  {
   "cell_type": "code",
   "execution_count": 135,
   "metadata": {},
   "outputs": [],
   "source": [
    "x_train,x_test,y_train,y_test=skms.train_test_split(x,y,test_size=1/4,random_state=0)"
   ]
  },
  {
   "cell_type": "code",
   "execution_count": 136,
   "metadata": {},
   "outputs": [
    {
     "name": "stdout",
     "output_type": "stream",
     "text": [
      "      Sales_Date  Sales_Quarter  Sales_Item\n",
      "3223      736374              2          55\n",
      "294       736419              3           6\n",
      "2400      736280              3          46\n",
      "2472      736293              3          48\n",
      "1977      736270              2          37\n",
      "2355      736364              2          43\n",
      "3840      736396              3          72\n",
      "1430      736407              3          23\n",
      "5206      736360              2          87\n",
      "514       736360              3          11\n",
      "1011      736405              3          15\n",
      "4328      736380              2          75\n",
      "5394      736411              3          88\n",
      "3392      736274              2          60\n",
      "1418      736401              3          23\n",
      "1949      736369              2          35\n",
      "406       736303              2          11\n",
      "450       736327              2          11\n",
      "32        736271              2           2\n",
      "1465      736425              2          23\n",
      "3755      736402              2          65\n",
      "2928      736358              2          51\n",
      "4110      736413              2          73\n",
      "2577      736363              2          48\n",
      "5223      736373              2          87\n",
      "1665      736306              2          26\n",
      "2889      736317              3          51\n",
      "630       736418              3          11\n",
      "2755      736399              2          49\n",
      "1939      736350              3          35\n",
      "...          ...            ...         ...\n",
      "423       736311              3          11\n",
      "3219      736371              3          55\n",
      "659       736272              3          14\n",
      "797       736269              2          15\n",
      "755       736379              3          14\n",
      "2008      736295              2          37\n",
      "99        736342              2           2\n",
      "2496      736309              2          48\n",
      "1871      736424              3          29\n",
      "2046      736325              3          37\n",
      "4851      736343              2          83\n",
      "5072      736337              3          86\n",
      "2163      736273              2          38\n",
      "2893      736320              3          51\n",
      "537       736372              2          11\n",
      "1701      736338              3          26\n",
      "2897      736326              3          51\n",
      "2222      736335              3          39\n",
      "2135      736406              2          37\n",
      "2599      736374              3          48\n",
      "705       736319              3          14\n",
      "3468      736354              3          60\n",
      "4373      736422              3          75\n",
      "1033      736418              3          15\n",
      "4859      736347              2          83\n",
      "4931      736384              2          83\n",
      "3264      736419              2          55\n",
      "1653      736298              3          26\n",
      "2607      736378              3          48\n",
      "2732      736350              3          49\n",
      "\n",
      "[4107 rows x 3 columns]\n"
     ]
    }
   ],
   "source": [
    "print(x_train)"
   ]
  },
  {
   "cell_type": "code",
   "execution_count": 137,
   "metadata": {},
   "outputs": [],
   "source": [
    "lm=sklm.LinearRegression()"
   ]
  },
  {
   "cell_type": "code",
   "execution_count": 138,
   "metadata": {},
   "outputs": [
    {
     "data": {
      "text/plain": [
       "LinearRegression(copy_X=True, fit_intercept=True, n_jobs=None,\n",
       "         normalize=False)"
      ]
     },
     "execution_count": 138,
     "metadata": {},
     "output_type": "execute_result"
    }
   ],
   "source": [
    "lm.fit(x_train,y_train)"
   ]
  },
  {
   "cell_type": "code",
   "execution_count": 139,
   "metadata": {},
   "outputs": [],
   "source": [
    "prediction=lm.predict(x_test)"
   ]
  },
  {
   "cell_type": "code",
   "execution_count": 140,
   "metadata": {},
   "outputs": [
    {
     "name": "stdout",
     "output_type": "stream",
     "text": [
      "Mean squared error : 20.24\n",
      "Variance score: 0.10\n"
     ]
    }
   ],
   "source": [
    "print(\"Mean squared error : %.2f\"\n",
    "      % mean_squared_error(y_test,prediction))\n",
    "\n",
    "\n",
    "print('Variance score: %.2f' % r2_score(y_test,prediction))"
   ]
  },
  {
   "cell_type": "code",
   "execution_count": 141,
   "metadata": {},
   "outputs": [],
   "source": [
    "dtr=DecisionTreeRegressor()"
   ]
  },
  {
   "cell_type": "code",
   "execution_count": 142,
   "metadata": {},
   "outputs": [
    {
     "data": {
      "text/plain": [
       "DecisionTreeRegressor(criterion='mse', max_depth=None, max_features=None,\n",
       "           max_leaf_nodes=None, min_impurity_decrease=0.0,\n",
       "           min_impurity_split=None, min_samples_leaf=1,\n",
       "           min_samples_split=2, min_weight_fraction_leaf=0.0,\n",
       "           presort=False, random_state=None, splitter='best')"
      ]
     },
     "execution_count": 142,
     "metadata": {},
     "output_type": "execute_result"
    }
   ],
   "source": [
    "dtr.fit(x_train,y_train)"
   ]
  },
  {
   "cell_type": "code",
   "execution_count": 143,
   "metadata": {},
   "outputs": [],
   "source": [
    "prediction=lm.predict(x_test)"
   ]
  },
  {
   "cell_type": "code",
   "execution_count": 144,
   "metadata": {},
   "outputs": [
    {
     "name": "stdout",
     "output_type": "stream",
     "text": [
      "Mean squared error : 20.24\n",
      "Variance score: 0.10\n"
     ]
    }
   ],
   "source": [
    "print(\"Mean squared error : %.2f\"\n",
    "      % mean_squared_error(y_test,prediction))\n",
    "\n",
    "\n",
    "print('Variance score: %.2f' % r2_score(y_test,prediction))"
   ]
  },
  {
   "cell_type": "code",
   "execution_count": 145,
   "metadata": {},
   "outputs": [],
   "source": [
    "rfr=RandomForestRegressor()"
   ]
  },
  {
   "cell_type": "code",
   "execution_count": 146,
   "metadata": {},
   "outputs": [
    {
     "name": "stderr",
     "output_type": "stream",
     "text": [
      "C:\\Users\\thimanthav.BRANDIXLK\\AppData\\Local\\Continuum\\anaconda3\\lib\\site-packages\\sklearn\\ensemble\\forest.py:246: FutureWarning: The default value of n_estimators will change from 10 in version 0.20 to 100 in 0.22.\n",
      "  \"10 in version 0.20 to 100 in 0.22.\", FutureWarning)\n",
      "C:\\Users\\thimanthav.BRANDIXLK\\AppData\\Local\\Continuum\\anaconda3\\lib\\site-packages\\ipykernel_launcher.py:1: DataConversionWarning: A column-vector y was passed when a 1d array was expected. Please change the shape of y to (n_samples,), for example using ravel().\n",
      "  \"\"\"Entry point for launching an IPython kernel.\n"
     ]
    },
    {
     "data": {
      "text/plain": [
       "RandomForestRegressor(bootstrap=True, criterion='mse', max_depth=None,\n",
       "           max_features='auto', max_leaf_nodes=None,\n",
       "           min_impurity_decrease=0.0, min_impurity_split=None,\n",
       "           min_samples_leaf=1, min_samples_split=2,\n",
       "           min_weight_fraction_leaf=0.0, n_estimators=10, n_jobs=None,\n",
       "           oob_score=False, random_state=None, verbose=0, warm_start=False)"
      ]
     },
     "execution_count": 146,
     "metadata": {},
     "output_type": "execute_result"
    }
   ],
   "source": [
    "rfr.fit(x_train,y_train)"
   ]
  },
  {
   "cell_type": "code",
   "execution_count": 147,
   "metadata": {},
   "outputs": [],
   "source": [
    "prediction=lm.predict(x_test)"
   ]
  },
  {
   "cell_type": "code",
   "execution_count": 148,
   "metadata": {},
   "outputs": [
    {
     "name": "stdout",
     "output_type": "stream",
     "text": [
      "Mean squared error : 20.24\n",
      "Variance score: 0.10\n"
     ]
    }
   ],
   "source": [
    "print(\"Mean squared error : %.2f\"\n",
    "      % mean_squared_error(y_test,prediction))\n",
    "\n",
    "\n",
    "print('Variance score: %.2f' % r2_score(y_test,prediction))"
   ]
  },
  {
   "cell_type": "code",
   "execution_count": 149,
   "metadata": {},
   "outputs": [],
   "source": [
    "bakery_sales_dataset=pd.read_csv(r'D:\\Thimantha\\Documents2\\Data Science\\Bakery-Sales-V2.csv')"
   ]
  },
  {
   "cell_type": "code",
   "execution_count": 150,
   "metadata": {},
   "outputs": [],
   "source": [
    "bakery_sales_dataset['Sales_Date']=pd.to_datetime(bakery_sales_dataset['Sales_Date'])"
   ]
  },
  {
   "cell_type": "code",
   "execution_count": 151,
   "metadata": {},
   "outputs": [],
   "source": [
    "bakery_sales_dataset['Sales_Date']=bakery_sales_dataset['Sales_Date'].map(dt.datetime.toordinal)"
   ]
  },
  {
   "cell_type": "code",
   "execution_count": 152,
   "metadata": {},
   "outputs": [
    {
     "data": {
      "text/html": [
       "<div>\n",
       "<style scoped>\n",
       "    .dataframe tbody tr th:only-of-type {\n",
       "        vertical-align: middle;\n",
       "    }\n",
       "\n",
       "    .dataframe tbody tr th {\n",
       "        vertical-align: top;\n",
       "    }\n",
       "\n",
       "    .dataframe thead th {\n",
       "        text-align: right;\n",
       "    }\n",
       "</style>\n",
       "<table border=\"1\" class=\"dataframe\">\n",
       "  <thead>\n",
       "    <tr style=\"text-align: right;\">\n",
       "      <th></th>\n",
       "      <th>Sales_Item</th>\n",
       "      <th>Sales_Date</th>\n",
       "      <th>Quantity</th>\n",
       "    </tr>\n",
       "  </thead>\n",
       "  <tbody>\n",
       "    <tr>\n",
       "      <th>0</th>\n",
       "      <td>Spanish Brunch</td>\n",
       "      <td>736387</td>\n",
       "      <td>1</td>\n",
       "    </tr>\n",
       "    <tr>\n",
       "      <th>1</th>\n",
       "      <td>Medialuna</td>\n",
       "      <td>736310</td>\n",
       "      <td>2</td>\n",
       "    </tr>\n",
       "    <tr>\n",
       "      <th>2</th>\n",
       "      <td>Truffles</td>\n",
       "      <td>736417</td>\n",
       "      <td>1</td>\n",
       "    </tr>\n",
       "    <tr>\n",
       "      <th>3</th>\n",
       "      <td>Coffee</td>\n",
       "      <td>736305</td>\n",
       "      <td>22</td>\n",
       "    </tr>\n",
       "    <tr>\n",
       "      <th>4</th>\n",
       "      <td>Soup</td>\n",
       "      <td>736419</td>\n",
       "      <td>3</td>\n",
       "    </tr>\n",
       "  </tbody>\n",
       "</table>\n",
       "</div>"
      ],
      "text/plain": [
       "       Sales_Item  Sales_Date  Quantity\n",
       "0  Spanish Brunch      736387         1\n",
       "1       Medialuna      736310         2\n",
       "2        Truffles      736417         1\n",
       "3          Coffee      736305        22\n",
       "4            Soup      736419         3"
      ]
     },
     "execution_count": 152,
     "metadata": {},
     "output_type": "execute_result"
    }
   ],
   "source": [
    "bakery_sales_dataset.head()"
   ]
  },
  {
   "cell_type": "code",
   "execution_count": 154,
   "metadata": {},
   "outputs": [],
   "source": [
    "bakery_sales_dataset['Sales_Item']=bakery_sales_dataset['Sales_Item'].astype('category')"
   ]
  },
  {
   "cell_type": "code",
   "execution_count": 155,
   "metadata": {},
   "outputs": [
    {
     "data": {
      "text/plain": [
       "Sales_Item    category\n",
       "Sales_Date       int64\n",
       "Quantity         int64\n",
       "dtype: object"
      ]
     },
     "execution_count": 155,
     "metadata": {},
     "output_type": "execute_result"
    }
   ],
   "source": [
    "bakery_sales_dataset.dtypes"
   ]
  },
  {
   "cell_type": "code",
   "execution_count": 156,
   "metadata": {},
   "outputs": [],
   "source": [
    "x=bakery_sales_dataset.loc[:,['Sales_Item','Sales_Date']]"
   ]
  },
  {
   "cell_type": "code",
   "execution_count": 157,
   "metadata": {},
   "outputs": [],
   "source": [
    "y=bakery_sales_dataset.loc[:,['Quantity']]"
   ]
  },
  {
   "cell_type": "code",
   "execution_count": 158,
   "metadata": {},
   "outputs": [],
   "source": [
    "label_encoder=skp.LabelEncoder()"
   ]
  },
  {
   "cell_type": "code",
   "execution_count": 159,
   "metadata": {},
   "outputs": [],
   "source": [
    "x['Sales_Item']=label_encoder.fit_transform(x['Sales_Item'])"
   ]
  },
  {
   "cell_type": "code",
   "execution_count": 160,
   "metadata": {},
   "outputs": [],
   "source": [
    "x_train,x_test,y_train,y_test=skms.train_test_split(x,y,test_size=1/4,random_state=0)"
   ]
  },
  {
   "cell_type": "code",
   "execution_count": 161,
   "metadata": {},
   "outputs": [],
   "source": [
    "lm=sklm.LinearRegression()"
   ]
  },
  {
   "cell_type": "code",
   "execution_count": 162,
   "metadata": {},
   "outputs": [
    {
     "data": {
      "text/plain": [
       "LinearRegression(copy_X=True, fit_intercept=True, n_jobs=None,\n",
       "         normalize=False)"
      ]
     },
     "execution_count": 162,
     "metadata": {},
     "output_type": "execute_result"
    }
   ],
   "source": [
    "lm.fit(x_train,y_train)"
   ]
  },
  {
   "cell_type": "code",
   "execution_count": 163,
   "metadata": {},
   "outputs": [],
   "source": [
    "prediction=lm.predict(x_test)"
   ]
  },
  {
   "cell_type": "code",
   "execution_count": 164,
   "metadata": {},
   "outputs": [
    {
     "name": "stdout",
     "output_type": "stream",
     "text": [
      "Mean squared error : 64.08\n",
      "Variance score: 0.07\n"
     ]
    }
   ],
   "source": [
    "print(\"Mean squared error : %.2f\"\n",
    "      % mean_squared_error(y_test,prediction))\n",
    "\n",
    "\n",
    "print('Variance score: %.2f' % r2_score(y_test,prediction))"
   ]
  },
  {
   "cell_type": "code",
   "execution_count": 2,
   "metadata": {},
   "outputs": [],
   "source": [
    "bakery_sales_dataset=pd.read_csv(r'D:\\Thimantha\\Documents2\\Data Science\\Bakery-Sales-V3.csv')"
   ]
  },
  {
   "cell_type": "code",
   "execution_count": 3,
   "metadata": {},
   "outputs": [],
   "source": [
    "bakery_sales_dataset['Sales_Date']=pd.to_datetime(bakery_sales_dataset['Sales_Date'])\n",
    "bakery_sales_dataset['Sales_Date']=bakery_sales_dataset['Sales_Date'].map(dt.datetime.toordinal)"
   ]
  },
  {
   "cell_type": "code",
   "execution_count": 4,
   "metadata": {},
   "outputs": [],
   "source": [
    "bakery_sales_dataset['Sales_Quarter']=bakery_sales_dataset['Sales_Quarter'].astype('category')"
   ]
  },
  {
   "cell_type": "code",
   "execution_count": 5,
   "metadata": {},
   "outputs": [],
   "source": [
    "bakery_sales_dataset['Sales_Item']=bakery_sales_dataset['Sales_Item'].astype('category')"
   ]
  },
  {
   "cell_type": "code",
   "execution_count": 6,
   "metadata": {},
   "outputs": [
    {
     "data": {
      "text/plain": [
       "Sales_Date          int64\n",
       "Sales_Quarter    category\n",
       "Sales_Item       category\n",
       "Quantity            int64\n",
       "dtype: object"
      ]
     },
     "execution_count": 6,
     "metadata": {},
     "output_type": "execute_result"
    }
   ],
   "source": [
    "bakery_sales_dataset.dtypes"
   ]
  },
  {
   "cell_type": "code",
   "execution_count": 7,
   "metadata": {},
   "outputs": [
    {
     "name": "stdout",
     "output_type": "stream",
     "text": [
      "0       Pastry\n",
      "1        Bread\n",
      "2         Cake\n",
      "3        Bread\n",
      "4        Bread\n",
      "5         Cake\n",
      "6       Coffee\n",
      "7          Tea\n",
      "8       Coffee\n",
      "9         Cake\n",
      "10       Bread\n",
      "11      Coffee\n",
      "12       Bread\n",
      "13         Tea\n",
      "14      Coffee\n",
      "15        Cake\n",
      "16        Cake\n",
      "17        Cake\n",
      "18      Pastry\n",
      "19       Bread\n",
      "20         Tea\n",
      "21      Pastry\n",
      "22      Pastry\n",
      "23       Bread\n",
      "24        Cake\n",
      "25       Bread\n",
      "26         Tea\n",
      "27         Tea\n",
      "28      Coffee\n",
      "29       Bread\n",
      "         ...  \n",
      "1403      Cake\n",
      "1404       Tea\n",
      "1405    Coffee\n",
      "1406      Cake\n",
      "1407    Pastry\n",
      "1408       Tea\n",
      "1409       Tea\n",
      "1410     Bread\n",
      "1411     Bread\n",
      "1412       Tea\n",
      "1413    Coffee\n",
      "1414     Bread\n",
      "1415     Bread\n",
      "1416    Pastry\n",
      "1417     Bread\n",
      "1418       Tea\n",
      "1419    Pastry\n",
      "1420    Coffee\n",
      "1421      Cake\n",
      "1422     Bread\n",
      "1423    Pastry\n",
      "1424     Bread\n",
      "1425     Bread\n",
      "1426    Coffee\n",
      "1427    Coffee\n",
      "1428      Cake\n",
      "1429     Bread\n",
      "1430      Cake\n",
      "1431      Cake\n",
      "1432      Cake\n",
      "Name: Sales_Item, Length: 1433, dtype: category\n",
      "Categories (5, object): [Bread, Cake, Coffee, Pastry, Tea]\n"
     ]
    }
   ],
   "source": [
    "print(bakery_sales_dataset['Sales_Item'])"
   ]
  },
  {
   "cell_type": "code",
   "execution_count": 8,
   "metadata": {},
   "outputs": [],
   "source": [
    "bakery_sales_dataset['Sales_Item']=bakery_sales_dataset['Sales_Item'].map({'Coffee':0,'Bread':1,'Tea':2,'Cake':3,'Pastry':4}).astype(int)"
   ]
  },
  {
   "cell_type": "code",
   "execution_count": 9,
   "metadata": {},
   "outputs": [
    {
     "name": "stdout",
     "output_type": "stream",
     "text": [
      "0       4\n",
      "1       1\n",
      "2       3\n",
      "3       1\n",
      "4       1\n",
      "5       3\n",
      "6       0\n",
      "7       2\n",
      "8       0\n",
      "9       3\n",
      "10      1\n",
      "11      0\n",
      "12      1\n",
      "13      2\n",
      "14      0\n",
      "15      3\n",
      "16      3\n",
      "17      3\n",
      "18      4\n",
      "19      1\n",
      "20      2\n",
      "21      4\n",
      "22      4\n",
      "23      1\n",
      "24      3\n",
      "25      1\n",
      "26      2\n",
      "27      2\n",
      "28      0\n",
      "29      1\n",
      "       ..\n",
      "1403    3\n",
      "1404    2\n",
      "1405    0\n",
      "1406    3\n",
      "1407    4\n",
      "1408    2\n",
      "1409    2\n",
      "1410    1\n",
      "1411    1\n",
      "1412    2\n",
      "1413    0\n",
      "1414    1\n",
      "1415    1\n",
      "1416    4\n",
      "1417    1\n",
      "1418    2\n",
      "1419    4\n",
      "1420    0\n",
      "1421    3\n",
      "1422    1\n",
      "1423    4\n",
      "1424    1\n",
      "1425    1\n",
      "1426    0\n",
      "1427    0\n",
      "1428    3\n",
      "1429    1\n",
      "1430    3\n",
      "1431    3\n",
      "1432    3\n",
      "Name: Sales_Item, Length: 1433, dtype: int32\n"
     ]
    }
   ],
   "source": [
    "print(bakery_sales_dataset['Sales_Item'])"
   ]
  },
  {
   "cell_type": "code",
   "execution_count": 10,
   "metadata": {},
   "outputs": [],
   "source": [
    "x=bakery_sales_dataset.loc[:,['Sales_Date','Sales_Quarter','Sales_Item']]"
   ]
  },
  {
   "cell_type": "code",
   "execution_count": 11,
   "metadata": {},
   "outputs": [],
   "source": [
    "y=bakery_sales_dataset.loc[:,['Quantity']]"
   ]
  },
  {
   "cell_type": "code",
   "execution_count": 13,
   "metadata": {},
   "outputs": [],
   "source": [
    "x_train,x_test,y_train,y_test=skms.train_test_split(x,y,test_size=1/4,random_state=0)"
   ]
  },
  {
   "cell_type": "code",
   "execution_count": 14,
   "metadata": {},
   "outputs": [
    {
     "name": "stdout",
     "output_type": "stream",
     "text": [
      "      Sales_Date Sales_Quarter  Sales_Item\n",
      "958       736338             2           0\n",
      "276       736311             2           1\n",
      "418       736426             3           2\n",
      "269       736293             3           3\n",
      "839       736409             2           4\n",
      "420       736270             3           1\n",
      "880       736284             3           0\n",
      "431       736276             2           1\n",
      "283       736390             3           3\n",
      "940       736403             3           3\n",
      "764       736414             3           0\n",
      "1376      736424             3           0\n",
      "904       736332             3           3\n",
      "338       736273             3           3\n",
      "363       736370             2           4\n",
      "656       736385             2           0\n",
      "921       736334             2           3\n",
      "436       736410             2           1\n",
      "320       736305             2           0\n",
      "1328      736394             2           0\n",
      "195       736375             2           2\n",
      "842       736286             2           2\n",
      "1148      736391             2           1\n",
      "70        736279             3           2\n",
      "1196      736310             2           4\n",
      "670       736289             2           0\n",
      "10        736302             3           1\n",
      "985       736378             3           4\n",
      "1224      736272             2           4\n",
      "1159      736405             3           0\n",
      "...          ...           ...         ...\n",
      "1408      736392             2           2\n",
      "1201      736317             2           1\n",
      "99        736416             2           2\n",
      "850       736348             2           0\n",
      "448       736376             2           0\n",
      "755       736396             2           0\n",
      "976       736290             3           4\n",
      "115       736361             2           4\n",
      "777       736424             3           3\n",
      "72        736309             2           0\n",
      "845       736294             3           0\n",
      "537       736426             2           4\n",
      "849       736393             2           2\n",
      "174       736310             3           2\n",
      "87        736307             2           2\n",
      "551       736366             3           0\n",
      "705       736388             2           4\n",
      "314       736320             3           3\n",
      "1420      736311             3           0\n",
      "600       736377             2           3\n",
      "1094      736365             2           0\n",
      "599       736356             3           3\n",
      "277       736360             3           4\n",
      "1033      736353             2           0\n",
      "1383      736273             2           2\n",
      "763       736336             2           2\n",
      "835       736338             3           1\n",
      "1216      736269             3           0\n",
      "559       736366             3           3\n",
      "684       736381             2           0\n",
      "\n",
      "[1074 rows x 3 columns]\n"
     ]
    }
   ],
   "source": [
    "print(x_train)"
   ]
  },
  {
   "cell_type": "code",
   "execution_count": 15,
   "metadata": {},
   "outputs": [
    {
     "name": "stdout",
     "output_type": "stream",
     "text": [
      "      Quantity\n",
      "958         21\n",
      "276          9\n",
      "418          3\n",
      "269          1\n",
      "839          4\n",
      "420          4\n",
      "880         12\n",
      "431          3\n",
      "283          3\n",
      "940          7\n",
      "764         12\n",
      "1376        13\n",
      "904          6\n",
      "338          6\n",
      "363          3\n",
      "656         32\n",
      "921          1\n",
      "436         11\n",
      "320         13\n",
      "1328        16\n",
      "195          2\n",
      "842          6\n",
      "1148        11\n",
      "70           4\n",
      "1196         3\n",
      "670         23\n",
      "10           7\n",
      "985          1\n",
      "1224         6\n",
      "1159        20\n",
      "...        ...\n",
      "1408         4\n",
      "1201        13\n",
      "99           3\n",
      "850         19\n",
      "448         16\n",
      "755          7\n",
      "976          1\n",
      "115          4\n",
      "777         10\n",
      "72          18\n",
      "845         18\n",
      "537          2\n",
      "849          2\n",
      "174          3\n",
      "87           7\n",
      "551         15\n",
      "705          4\n",
      "314          6\n",
      "1420        12\n",
      "600          3\n",
      "1094        35\n",
      "599          5\n",
      "277          1\n",
      "1033        18\n",
      "1383         6\n",
      "763          3\n",
      "835          3\n",
      "1216        15\n",
      "559          5\n",
      "684         13\n",
      "\n",
      "[1074 rows x 1 columns]\n"
     ]
    }
   ],
   "source": [
    "print(y_train)"
   ]
  },
  {
   "cell_type": "code",
   "execution_count": 16,
   "metadata": {},
   "outputs": [],
   "source": [
    "lm=sklm.LinearRegression()"
   ]
  },
  {
   "cell_type": "code",
   "execution_count": 17,
   "metadata": {},
   "outputs": [
    {
     "data": {
      "text/plain": [
       "LinearRegression(copy_X=True, fit_intercept=True, n_jobs=None,\n",
       "         normalize=False)"
      ]
     },
     "execution_count": 17,
     "metadata": {},
     "output_type": "execute_result"
    }
   ],
   "source": [
    "lm.fit(x_train,y_train)"
   ]
  },
  {
   "cell_type": "code",
   "execution_count": 18,
   "metadata": {},
   "outputs": [],
   "source": [
    "prediction=lm.predict(x_test)"
   ]
  },
  {
   "cell_type": "code",
   "execution_count": 19,
   "metadata": {},
   "outputs": [
    {
     "name": "stdout",
     "output_type": "stream",
     "text": [
      "Mean squared error : 26.53\n",
      "Variance score: 0.49\n"
     ]
    }
   ],
   "source": [
    "print(\"Mean squared error : %.2f\"\n",
    "      % mean_squared_error(y_test,prediction))\n",
    "\n",
    "\n",
    "print('Variance score: %.2f' % r2_score(y_test,prediction))"
   ]
  },
  {
   "cell_type": "code",
   "execution_count": 29,
   "metadata": {},
   "outputs": [],
   "source": [
    "bakery_sales_dataset=pd.read_csv(r'D:\\Thimantha\\Documents2\\Data Science\\Bakery-Sales-V4.csv')"
   ]
  },
  {
   "cell_type": "code",
   "execution_count": 30,
   "metadata": {},
   "outputs": [],
   "source": [
    "bakery_sales_dataset['Sales_Date']=pd.to_datetime(bakery_sales_dataset['Sales_Date'])\n",
    "bakery_sales_dataset['Sales_Date']=bakery_sales_dataset['Sales_Date'].map(dt.datetime.toordinal)"
   ]
  },
  {
   "cell_type": "code",
   "execution_count": 31,
   "metadata": {},
   "outputs": [],
   "source": [
    "bakery_sales_dataset['Sales_Quarter']=bakery_sales_dataset['Sales_Quarter'].astype('category')"
   ]
  },
  {
   "cell_type": "code",
   "execution_count": 34,
   "metadata": {},
   "outputs": [],
   "source": [
    "bakery_sales_dataset['Sales_Item']=bakery_sales_dataset['Sales_Item'].map({'Coffee':0,'Bread':1}).astype(int)"
   ]
  },
  {
   "cell_type": "code",
   "execution_count": 35,
   "metadata": {},
   "outputs": [
    {
     "name": "stdout",
     "output_type": "stream",
     "text": [
      "0      0\n",
      "1      1\n",
      "2      1\n",
      "3      1\n",
      "4      0\n",
      "5      1\n",
      "6      1\n",
      "7      0\n",
      "8      1\n",
      "9      0\n",
      "10     0\n",
      "11     0\n",
      "12     0\n",
      "13     0\n",
      "14     0\n",
      "15     0\n",
      "16     1\n",
      "17     0\n",
      "18     1\n",
      "19     1\n",
      "20     1\n",
      "21     0\n",
      "22     1\n",
      "23     0\n",
      "24     1\n",
      "25     1\n",
      "26     0\n",
      "27     1\n",
      "28     1\n",
      "29     1\n",
      "      ..\n",
      "603    0\n",
      "604    0\n",
      "605    0\n",
      "606    1\n",
      "607    1\n",
      "608    0\n",
      "609    1\n",
      "610    0\n",
      "611    0\n",
      "612    1\n",
      "613    0\n",
      "614    0\n",
      "615    1\n",
      "616    1\n",
      "617    0\n",
      "618    1\n",
      "619    0\n",
      "620    0\n",
      "621    1\n",
      "622    0\n",
      "623    1\n",
      "624    1\n",
      "625    1\n",
      "626    1\n",
      "627    0\n",
      "628    0\n",
      "629    1\n",
      "630    1\n",
      "631    1\n",
      "632    0\n",
      "Name: Sales_Item, Length: 633, dtype: int32\n"
     ]
    }
   ],
   "source": [
    "print(bakery_sales_dataset['Sales_Item'])"
   ]
  },
  {
   "cell_type": "code",
   "execution_count": 36,
   "metadata": {},
   "outputs": [],
   "source": [
    "x=bakery_sales_dataset.loc[:,['Sales_Date','Sales_Quarter','Sales_Item']]"
   ]
  },
  {
   "cell_type": "code",
   "execution_count": 37,
   "metadata": {},
   "outputs": [],
   "source": [
    "y=bakery_sales_dataset.loc[:,['Quantity']]"
   ]
  },
  {
   "cell_type": "code",
   "execution_count": 38,
   "metadata": {},
   "outputs": [],
   "source": [
    "x_train,x_test,y_train,y_test=skms.train_test_split(x,y,test_size=1/4,random_state=0)"
   ]
  },
  {
   "cell_type": "code",
   "execution_count": 39,
   "metadata": {},
   "outputs": [
    {
     "name": "stdout",
     "output_type": "stream",
     "text": [
      "     Sales_Date Sales_Quarter  Sales_Item\n",
      "490      736384             2           0\n",
      "196      736340             3           1\n",
      "513      736412             2           0\n",
      "96       736389             2           1\n",
      "378      736313             2           0\n",
      "546      736288             2           1\n",
      "482      736287             3           1\n",
      "89       736410             3           0\n",
      "524      736314             2           0\n",
      "235      736387             3           0\n",
      "194      736270             3           1\n",
      "46       736301             3           0\n",
      "432      736392             3           0\n",
      "278      736359             2           1\n",
      "494      736427             2           0\n",
      "434      736325             2           0\n",
      "456      736401             3           0\n",
      "107      736388             2           1\n",
      "225      736321             2           0\n",
      "401      736419             3           1\n",
      "0        736291             2           0\n",
      "452      736309             2           1\n",
      "71       736356             3           1\n",
      "187      736393             2           1\n",
      "102      736282             2           1\n",
      "425      736382             3           1\n",
      "108      736296             3           0\n",
      "333      736273             2           1\n",
      "575      736267             3           0\n",
      "573      736360             3           0\n",
      "..          ...           ...         ...\n",
      "543      736382             2           0\n",
      "544      736420             3           0\n",
      "265      736421             3           1\n",
      "288      736309             3           0\n",
      "423      736419             3           0\n",
      "147      736301             2           0\n",
      "177      736374             2           0\n",
      "99       736334             2           0\n",
      "448      736322             3           1\n",
      "431      736344             3           0\n",
      "115      736297             3           1\n",
      "72       736389             2           0\n",
      "537      736353             3           1\n",
      "623      736367             3           1\n",
      "174      736303             2           1\n",
      "87       736332             3           0\n",
      "551      736297             2           0\n",
      "486      736405             2           1\n",
      "314      736426             2           1\n",
      "396      736299             2           0\n",
      "600      736283             2           0\n",
      "472      736378             3           1\n",
      "70       736367             2           1\n",
      "599      736383             3           1\n",
      "277      736303             3           1\n",
      "9        736379             2           0\n",
      "359      736425             2           1\n",
      "192      736426             3           1\n",
      "629      736422             2           1\n",
      "559      736373             2           0\n",
      "\n",
      "[474 rows x 3 columns]\n"
     ]
    }
   ],
   "source": [
    "print(x_train)"
   ]
  },
  {
   "cell_type": "code",
   "execution_count": 40,
   "metadata": {},
   "outputs": [
    {
     "name": "stdout",
     "output_type": "stream",
     "text": [
      "     Quantity\n",
      "490        25\n",
      "196         5\n",
      "513        28\n",
      "96          6\n",
      "378        17\n",
      "546        18\n",
      "482        13\n",
      "89         13\n",
      "524        25\n",
      "235         7\n",
      "194         4\n",
      "46         22\n",
      "432        18\n",
      "278        11\n",
      "494        22\n",
      "434        17\n",
      "456        14\n",
      "107        20\n",
      "225        23\n",
      "401        14\n",
      "0          15\n",
      "452        14\n",
      "71          7\n",
      "187        10\n",
      "102         9\n",
      "425        10\n",
      "108        12\n",
      "333        27\n",
      "575        13\n",
      "573        11\n",
      "..        ...\n",
      "543        13\n",
      "544        13\n",
      "265         6\n",
      "288        11\n",
      "423        18\n",
      "147        23\n",
      "177        20\n",
      "99         15\n",
      "448         5\n",
      "431        14\n",
      "115         4\n",
      "72         15\n",
      "537         9\n",
      "623         6\n",
      "174         9\n",
      "87         14\n",
      "551        20\n",
      "486        10\n",
      "314        11\n",
      "396        10\n",
      "600        25\n",
      "472        10\n",
      "70         11\n",
      "599         5\n",
      "277         8\n",
      "9          28\n",
      "359         7\n",
      "192         4\n",
      "629         8\n",
      "559        24\n",
      "\n",
      "[474 rows x 1 columns]\n"
     ]
    }
   ],
   "source": [
    "print(y_train)"
   ]
  },
  {
   "cell_type": "code",
   "execution_count": 41,
   "metadata": {},
   "outputs": [],
   "source": [
    "lm=sklm.LinearRegression()"
   ]
  },
  {
   "cell_type": "code",
   "execution_count": 42,
   "metadata": {},
   "outputs": [
    {
     "data": {
      "text/plain": [
       "LinearRegression(copy_X=True, fit_intercept=True, n_jobs=None,\n",
       "         normalize=False)"
      ]
     },
     "execution_count": 42,
     "metadata": {},
     "output_type": "execute_result"
    }
   ],
   "source": [
    "lm.fit(x_train,y_train)"
   ]
  },
  {
   "cell_type": "code",
   "execution_count": 43,
   "metadata": {},
   "outputs": [],
   "source": [
    "prediction=lm.predict(x_test)"
   ]
  },
  {
   "cell_type": "code",
   "execution_count": 44,
   "metadata": {},
   "outputs": [
    {
     "name": "stdout",
     "output_type": "stream",
     "text": [
      "Mean squared error : 31.15\n",
      "Variance score: 0.42\n"
     ]
    }
   ],
   "source": [
    "print(\"Mean squared error : %.2f\"\n",
    "      % mean_squared_error(y_test,prediction))\n",
    "\n",
    "\n",
    "print('Variance score: %.2f' % r2_score(y_test,prediction))"
   ]
  },
  {
   "cell_type": "code",
   "execution_count": 45,
   "metadata": {},
   "outputs": [],
   "source": [
    "bakery_sales_dataset=pd.read_csv(r'D:\\Thimantha\\Documents2\\Data Science\\Bakery-Sales-V5.csv')"
   ]
  },
  {
   "cell_type": "code",
   "execution_count": 47,
   "metadata": {},
   "outputs": [],
   "source": [
    "bakery_sales_dataset['Sales_Date']=pd.to_datetime(bakery_sales_dataset['Sales_Date'])"
   ]
  },
  {
   "cell_type": "code",
   "execution_count": 49,
   "metadata": {},
   "outputs": [],
   "source": [
    "bakery_sales_dataset['Sales_Date']=bakery_sales_dataset['Sales_Date'].map(dt.datetime.toordinal)"
   ]
  },
  {
   "cell_type": "code",
   "execution_count": 50,
   "metadata": {},
   "outputs": [],
   "source": [
    "bakery_sales_dataset['Sales_Quarter']=bakery_sales_dataset['Sales_Quarter'].astype('category')"
   ]
  },
  {
   "cell_type": "code",
   "execution_count": 51,
   "metadata": {},
   "outputs": [],
   "source": [
    "bakery_sales_dataset['Sales_Item']=bakery_sales_dataset['Sales_Item'].map({'Coffee':0,'Bread':1,'Tea':2}).astype(int)"
   ]
  },
  {
   "cell_type": "code",
   "execution_count": 52,
   "metadata": {},
   "outputs": [],
   "source": [
    "x=bakery_sales_dataset.loc[:,['Sales_Date','Sales_Quarter','Sales_Item']]"
   ]
  },
  {
   "cell_type": "code",
   "execution_count": 53,
   "metadata": {},
   "outputs": [],
   "source": [
    "y=bakery_sales_dataset.loc[:,['Quantity']]"
   ]
  },
  {
   "cell_type": "code",
   "execution_count": 54,
   "metadata": {},
   "outputs": [],
   "source": [
    "x_train,x_test,y_train,y_test=skms.train_test_split(x,y,test_size=1/4,random_state=0)"
   ]
  },
  {
   "cell_type": "code",
   "execution_count": 55,
   "metadata": {},
   "outputs": [],
   "source": [
    "lm=sklm.LinearRegression()"
   ]
  },
  {
   "cell_type": "code",
   "execution_count": 56,
   "metadata": {},
   "outputs": [
    {
     "data": {
      "text/plain": [
       "LinearRegression(copy_X=True, fit_intercept=True, n_jobs=None,\n",
       "         normalize=False)"
      ]
     },
     "execution_count": 56,
     "metadata": {},
     "output_type": "execute_result"
    }
   ],
   "source": [
    "lm.fit(x_train,y_train)"
   ]
  },
  {
   "cell_type": "code",
   "execution_count": 57,
   "metadata": {},
   "outputs": [],
   "source": [
    "prediction=lm.predict(x_test)"
   ]
  },
  {
   "cell_type": "code",
   "execution_count": 58,
   "metadata": {},
   "outputs": [
    {
     "name": "stdout",
     "output_type": "stream",
     "text": [
      "Mean squared error : 21.45\n",
      "Variance score: 0.55\n"
     ]
    }
   ],
   "source": [
    "print(\"Mean squared error : %.2f\"\n",
    "      % mean_squared_error(y_test,prediction))\n",
    "\n",
    "\n",
    "print('Variance score: %.2f' % r2_score(y_test,prediction))"
   ]
  },
  {
   "cell_type": "code",
   "execution_count": 2,
   "metadata": {},
   "outputs": [],
   "source": [
    "bakery_sales_dataset=pd.read_csv(r'D:\\Thimantha\\Documents2\\Data Science\\Bakery-Sales-V6.csv')"
   ]
  },
  {
   "cell_type": "code",
   "execution_count": 3,
   "metadata": {},
   "outputs": [],
   "source": [
    "bakery_sales_dataset['Sales_Date']=pd.to_datetime(bakery_sales_dataset['Sales_Date'])"
   ]
  },
  {
   "cell_type": "code",
   "execution_count": 4,
   "metadata": {},
   "outputs": [],
   "source": [
    "bakery_sales_dataset['Sales_Date']=bakery_sales_dataset['Sales_Date'].map(dt.datetime.toordinal)"
   ]
  },
  {
   "cell_type": "code",
   "execution_count": 5,
   "metadata": {},
   "outputs": [],
   "source": [
    "bakery_sales_dataset['Sales_Quarter']=bakery_sales_dataset['Sales_Quarter'].astype('category')"
   ]
  },
  {
   "cell_type": "code",
   "execution_count": 6,
   "metadata": {},
   "outputs": [],
   "source": [
    "bakery_sales_dataset['Sales_Item']=bakery_sales_dataset['Sales_Item'].map({'Coffee':0,'Bread':1,'Tea':2,'Cake':3}).astype(int)"
   ]
  },
  {
   "cell_type": "code",
   "execution_count": 7,
   "metadata": {},
   "outputs": [],
   "source": [
    "x=bakery_sales_dataset.loc[:,['Sales_Date','Sales_Quarter','Sales_Item']]"
   ]
  },
  {
   "cell_type": "code",
   "execution_count": 8,
   "metadata": {},
   "outputs": [],
   "source": [
    "y=bakery_sales_dataset.loc[:,['Quantity']]"
   ]
  },
  {
   "cell_type": "code",
   "execution_count": 9,
   "metadata": {},
   "outputs": [],
   "source": [
    "x_train,x_test,y_train,y_test=skms.train_test_split(x,y,test_size=1/4,random_state=0)"
   ]
  },
  {
   "cell_type": "code",
   "execution_count": 10,
   "metadata": {},
   "outputs": [],
   "source": [
    "lm=sklm.LinearRegression()"
   ]
  },
  {
   "cell_type": "code",
   "execution_count": 11,
   "metadata": {},
   "outputs": [
    {
     "data": {
      "text/plain": [
       "LinearRegression(copy_X=True, fit_intercept=True, n_jobs=None,\n",
       "         normalize=False)"
      ]
     },
     "execution_count": 11,
     "metadata": {},
     "output_type": "execute_result"
    }
   ],
   "source": [
    "lm.fit(x_train,y_train)"
   ]
  },
  {
   "cell_type": "code",
   "execution_count": 12,
   "metadata": {},
   "outputs": [],
   "source": [
    "prediction=lm.predict(x_test)"
   ]
  },
  {
   "cell_type": "code",
   "execution_count": 13,
   "metadata": {},
   "outputs": [
    {
     "name": "stdout",
     "output_type": "stream",
     "text": [
      "Mean squared error : 24.13\n",
      "Variance score: 0.56\n"
     ]
    }
   ],
   "source": [
    "print(\"Mean squared error : %.2f\"\n",
    "      % mean_squared_error(y_test,prediction))\n",
    "\n",
    "\n",
    "print('Variance score: %.2f' % r2_score(y_test,prediction))"
   ]
  },
  {
   "cell_type": "code",
   "execution_count": 14,
   "metadata": {},
   "outputs": [],
   "source": [
    "dtr=DecisionTreeRegressor()"
   ]
  },
  {
   "cell_type": "code",
   "execution_count": 15,
   "metadata": {},
   "outputs": [
    {
     "data": {
      "text/plain": [
       "DecisionTreeRegressor(criterion='mse', max_depth=None, max_features=None,\n",
       "           max_leaf_nodes=None, min_impurity_decrease=0.0,\n",
       "           min_impurity_split=None, min_samples_leaf=1,\n",
       "           min_samples_split=2, min_weight_fraction_leaf=0.0,\n",
       "           presort=False, random_state=None, splitter='best')"
      ]
     },
     "execution_count": 15,
     "metadata": {},
     "output_type": "execute_result"
    }
   ],
   "source": [
    "dtr.fit(x_train,y_train)"
   ]
  },
  {
   "cell_type": "code",
   "execution_count": 22,
   "metadata": {},
   "outputs": [],
   "source": [
    "prediction=dtr.predict(x_test)"
   ]
  },
  {
   "cell_type": "code",
   "execution_count": 23,
   "metadata": {},
   "outputs": [
    {
     "name": "stdout",
     "output_type": "stream",
     "text": [
      "Mean squared error : 30.99\n",
      "Variance score: 0.43\n"
     ]
    }
   ],
   "source": [
    "print(\"Mean squared error : %.2f\"\n",
    "      % mean_squared_error(y_test,prediction))\n",
    "\n",
    "\n",
    "print('Variance score: %.2f' % r2_score(y_test,prediction))"
   ]
  },
  {
   "cell_type": "code",
   "execution_count": 18,
   "metadata": {},
   "outputs": [],
   "source": [
    "rfr=RandomForestRegressor()"
   ]
  },
  {
   "cell_type": "code",
   "execution_count": 19,
   "metadata": {},
   "outputs": [
    {
     "name": "stderr",
     "output_type": "stream",
     "text": [
      "C:\\Users\\thimanthav.BRANDIXLK\\AppData\\Local\\Continuum\\anaconda3\\lib\\site-packages\\sklearn\\ensemble\\forest.py:246: FutureWarning: The default value of n_estimators will change from 10 in version 0.20 to 100 in 0.22.\n",
      "  \"10 in version 0.20 to 100 in 0.22.\", FutureWarning)\n",
      "C:\\Users\\thimanthav.BRANDIXLK\\AppData\\Local\\Continuum\\anaconda3\\lib\\site-packages\\ipykernel_launcher.py:1: DataConversionWarning: A column-vector y was passed when a 1d array was expected. Please change the shape of y to (n_samples,), for example using ravel().\n",
      "  \"\"\"Entry point for launching an IPython kernel.\n"
     ]
    },
    {
     "data": {
      "text/plain": [
       "RandomForestRegressor(bootstrap=True, criterion='mse', max_depth=None,\n",
       "           max_features='auto', max_leaf_nodes=None,\n",
       "           min_impurity_decrease=0.0, min_impurity_split=None,\n",
       "           min_samples_leaf=1, min_samples_split=2,\n",
       "           min_weight_fraction_leaf=0.0, n_estimators=10, n_jobs=None,\n",
       "           oob_score=False, random_state=None, verbose=0, warm_start=False)"
      ]
     },
     "execution_count": 19,
     "metadata": {},
     "output_type": "execute_result"
    }
   ],
   "source": [
    "rfr.fit(x_train,y_train)"
   ]
  },
  {
   "cell_type": "code",
   "execution_count": 24,
   "metadata": {},
   "outputs": [],
   "source": [
    "prediction=rfr.predict(x_test)"
   ]
  },
  {
   "cell_type": "code",
   "execution_count": 25,
   "metadata": {},
   "outputs": [
    {
     "name": "stdout",
     "output_type": "stream",
     "text": [
      "Mean squared error : 24.68\n",
      "Variance score: 0.55\n"
     ]
    }
   ],
   "source": [
    "print(\"Mean squared error : %.2f\"\n",
    "      % mean_squared_error(y_test,prediction))\n",
    "\n",
    "\n",
    "print('Variance score: %.2f' % r2_score(y_test,prediction))"
   ]
  },
  {
   "cell_type": "code",
   "execution_count": 26,
   "metadata": {},
   "outputs": [],
   "source": [
    "bakery_sales_dataset=pd.read_csv(r'D:\\Thimantha\\Documents2\\Data Science\\Bakery-Sales-V14.csv')"
   ]
  },
  {
   "cell_type": "code",
   "execution_count": 27,
   "metadata": {},
   "outputs": [],
   "source": [
    "bakery_sales_dataset['Sales_Date']=pd.to_datetime(bakery_sales_dataset['Sales_Date'])"
   ]
  },
  {
   "cell_type": "code",
   "execution_count": 28,
   "metadata": {},
   "outputs": [],
   "source": [
    "bakery_sales_dataset['Sales_Date']=bakery_sales_dataset['Sales_Date'].map(dt.datetime.toordinal)"
   ]
  },
  {
   "cell_type": "code",
   "execution_count": 29,
   "metadata": {},
   "outputs": [],
   "source": [
    "bakery_sales_dataset['Sales_Quarter']=bakery_sales_dataset['Sales_Quarter'].astype('category')"
   ]
  },
  {
   "cell_type": "code",
   "execution_count": 30,
   "metadata": {},
   "outputs": [],
   "source": [
    "bakery_sales_dataset['Sales_Item']=bakery_sales_dataset['Sales_Item'].map({'Coffee':0,'Bread':1}).astype(int)"
   ]
  },
  {
   "cell_type": "code",
   "execution_count": 31,
   "metadata": {},
   "outputs": [],
   "source": [
    "x=bakery_sales_dataset.loc[:,['Sales_Date','Sales_Quarter','Sales_Item']]"
   ]
  },
  {
   "cell_type": "code",
   "execution_count": 32,
   "metadata": {},
   "outputs": [],
   "source": [
    "y=bakery_sales_dataset.loc[:,['Quantity']]"
   ]
  },
  {
   "cell_type": "code",
   "execution_count": 33,
   "metadata": {},
   "outputs": [],
   "source": [
    "x_train,x_test,y_train,y_test=skms.train_test_split(x,y,test_size=1/4,random_state=0)"
   ]
  },
  {
   "cell_type": "code",
   "execution_count": 34,
   "metadata": {},
   "outputs": [],
   "source": [
    "lm=sklm.LinearRegression()"
   ]
  },
  {
   "cell_type": "code",
   "execution_count": 35,
   "metadata": {},
   "outputs": [
    {
     "data": {
      "text/plain": [
       "LinearRegression(copy_X=True, fit_intercept=True, n_jobs=None,\n",
       "         normalize=False)"
      ]
     },
     "execution_count": 35,
     "metadata": {},
     "output_type": "execute_result"
    }
   ],
   "source": [
    "lm.fit(x_train,y_train)"
   ]
  },
  {
   "cell_type": "code",
   "execution_count": 36,
   "metadata": {},
   "outputs": [],
   "source": [
    "prediction=lm.predict(x_test)"
   ]
  },
  {
   "cell_type": "code",
   "execution_count": 37,
   "metadata": {},
   "outputs": [
    {
     "name": "stdout",
     "output_type": "stream",
     "text": [
      "Mean squared error : 31.15\n",
      "Variance score: 0.42\n"
     ]
    }
   ],
   "source": [
    "print(\"Mean squared error : %.2f\"\n",
    "      % mean_squared_error(y_test,prediction))\n",
    "\n",
    "\n",
    "print('Variance score: %.2f' % r2_score(y_test,prediction))"
   ]
  },
  {
   "cell_type": "code",
   "execution_count": 38,
   "metadata": {},
   "outputs": [],
   "source": [
    "bakery_sales_dataset=pd.read_csv(r'D:\\Thimantha\\Documents2\\Data Science\\Bakery-Sales-V15.csv')"
   ]
  },
  {
   "cell_type": "code",
   "execution_count": 39,
   "metadata": {},
   "outputs": [],
   "source": [
    "bakery_sales_dataset['Sales_Date']=pd.to_datetime(bakery_sales_dataset['Sales_Date'])"
   ]
  },
  {
   "cell_type": "code",
   "execution_count": 40,
   "metadata": {},
   "outputs": [],
   "source": [
    "bakery_sales_dataset['Sales_Date']=bakery_sales_dataset['Sales_Date'].map(dt.datetime.toordinal)"
   ]
  },
  {
   "cell_type": "code",
   "execution_count": 41,
   "metadata": {},
   "outputs": [],
   "source": [
    "bakery_sales_dataset['Sales_Item']=bakery_sales_dataset['Sales_Item'].map({'Coffee':0,'Bread':1,'Tea':2,'Cake':3}).astype(int)"
   ]
  },
  {
   "cell_type": "code",
   "execution_count": 42,
   "metadata": {},
   "outputs": [],
   "source": [
    "x=bakery_sales_dataset.loc[:,['Sales_Date','Sales_Item']]"
   ]
  },
  {
   "cell_type": "code",
   "execution_count": 43,
   "metadata": {},
   "outputs": [],
   "source": [
    "y=bakery_sales_dataset.loc[:,['Quantity']]"
   ]
  },
  {
   "cell_type": "code",
   "execution_count": 44,
   "metadata": {},
   "outputs": [],
   "source": [
    "x_train,x_test,y_train,y_test=skms.train_test_split(x,y,test_size=1/4,random_state=0)"
   ]
  },
  {
   "cell_type": "code",
   "execution_count": 45,
   "metadata": {},
   "outputs": [],
   "source": [
    "lm=sklm.LinearRegression()"
   ]
  },
  {
   "cell_type": "code",
   "execution_count": 46,
   "metadata": {},
   "outputs": [
    {
     "data": {
      "text/plain": [
       "LinearRegression(copy_X=True, fit_intercept=True, n_jobs=None,\n",
       "         normalize=False)"
      ]
     },
     "execution_count": 46,
     "metadata": {},
     "output_type": "execute_result"
    }
   ],
   "source": [
    "lm.fit(x_train,y_train)"
   ]
  },
  {
   "cell_type": "code",
   "execution_count": 47,
   "metadata": {},
   "outputs": [],
   "source": [
    "prediction=lm.predict(x_test)"
   ]
  },
  {
   "cell_type": "code",
   "execution_count": 48,
   "metadata": {},
   "outputs": [
    {
     "name": "stdout",
     "output_type": "stream",
     "text": [
      "Mean squared error : 60.52\n",
      "Variance score: 0.66\n"
     ]
    }
   ],
   "source": [
    "print(\"Mean squared error : %.2f\"\n",
    "      % mean_squared_error(y_test,prediction))\n",
    "\n",
    "\n",
    "print('Variance score: %.2f' % r2_score(y_test,prediction))"
   ]
  },
  {
   "cell_type": "code",
   "execution_count": 49,
   "metadata": {},
   "outputs": [],
   "source": [
    "bakery_sales_dataset=pd.read_csv(r'D:\\Thimantha\\Documents2\\Data Science\\Bakery-Sales-V16.csv')"
   ]
  },
  {
   "cell_type": "code",
   "execution_count": 50,
   "metadata": {},
   "outputs": [],
   "source": [
    "bakery_sales_dataset['Sales_Item']=bakery_sales_dataset['Sales_Item'].map({'Coffee':0,'Bread':1,'Tea':2,'Cake':3}).astype(int)"
   ]
  },
  {
   "cell_type": "code",
   "execution_count": 51,
   "metadata": {},
   "outputs": [],
   "source": [
    "x=bakery_sales_dataset.loc[:,['Sales_Year','Sales_Month','Sales_Item']]"
   ]
  },
  {
   "cell_type": "code",
   "execution_count": 52,
   "metadata": {},
   "outputs": [],
   "source": [
    "y=bakery_sales_dataset.loc[:,['Quantity']]"
   ]
  },
  {
   "cell_type": "code",
   "execution_count": 53,
   "metadata": {},
   "outputs": [],
   "source": [
    "x_train,x_test,y_train,y_test=skms.train_test_split(x,y,test_size=1/4,random_state=0)"
   ]
  },
  {
   "cell_type": "code",
   "execution_count": 54,
   "metadata": {},
   "outputs": [],
   "source": [
    "lm=sklm.LinearRegression()"
   ]
  },
  {
   "cell_type": "code",
   "execution_count": 55,
   "metadata": {},
   "outputs": [
    {
     "data": {
      "text/plain": [
       "LinearRegression(copy_X=True, fit_intercept=True, n_jobs=None,\n",
       "         normalize=False)"
      ]
     },
     "execution_count": 55,
     "metadata": {},
     "output_type": "execute_result"
    }
   ],
   "source": [
    "lm.fit(x_train,y_train)"
   ]
  },
  {
   "cell_type": "code",
   "execution_count": 56,
   "metadata": {},
   "outputs": [],
   "source": [
    "prediction=lm.predict(x_test)"
   ]
  },
  {
   "cell_type": "code",
   "execution_count": 57,
   "metadata": {},
   "outputs": [
    {
     "name": "stdout",
     "output_type": "stream",
     "text": [
      "Mean squared error : 62129.51\n",
      "Variance score: 0.61\n"
     ]
    }
   ],
   "source": [
    "print(\"Mean squared error : %.2f\"\n",
    "      % mean_squared_error(y_test,prediction))\n",
    "\n",
    "\n",
    "print('Variance score: %.2f' % r2_score(y_test,prediction))"
   ]
  },
  {
   "cell_type": "code",
   "execution_count": 2,
   "metadata": {},
   "outputs": [],
   "source": [
    "bakery_sales_dataset=pd.read_csv(r'D:\\Thimantha\\Documents2\\Data Science\\Bakery-Sales-V17.csv')"
   ]
  },
  {
   "cell_type": "code",
   "execution_count": 3,
   "metadata": {},
   "outputs": [],
   "source": [
    "bakery_sales_dataset['Sales_Date']=pd.to_datetime(bakery_sales_dataset['Sales_Date'])"
   ]
  },
  {
   "cell_type": "code",
   "execution_count": 4,
   "metadata": {},
   "outputs": [],
   "source": [
    "bakery_sales_dataset['Sales_Date']=bakery_sales_dataset['Sales_Date'].map(dt.datetime.toordinal)"
   ]
  },
  {
   "cell_type": "code",
   "execution_count": 5,
   "metadata": {},
   "outputs": [],
   "source": [
    "bakery_sales_dataset['Sales_Item']=bakery_sales_dataset['Sales_Item'].map({'Coffee':0,'Bread':1,'Tea':2,'Cake':3,'Pastry':4}).astype(int)"
   ]
  },
  {
   "cell_type": "code",
   "execution_count": 6,
   "metadata": {},
   "outputs": [],
   "source": [
    "x=bakery_sales_dataset.loc[:,['Sales_Date','Sales_Item']]"
   ]
  },
  {
   "cell_type": "code",
   "execution_count": 7,
   "metadata": {},
   "outputs": [],
   "source": [
    "y=bakery_sales_dataset.loc[:,['Quantity']]"
   ]
  },
  {
   "cell_type": "code",
   "execution_count": 8,
   "metadata": {},
   "outputs": [],
   "source": [
    "x_train,x_test,y_train,y_test=skms.train_test_split(x,y,test_size=1/4,random_state=0)"
   ]
  },
  {
   "cell_type": "code",
   "execution_count": 9,
   "metadata": {},
   "outputs": [],
   "source": [
    "lm=sklm.LinearRegression()"
   ]
  },
  {
   "cell_type": "code",
   "execution_count": 10,
   "metadata": {},
   "outputs": [
    {
     "data": {
      "text/plain": [
       "LinearRegression(copy_X=True, fit_intercept=True, n_jobs=None,\n",
       "         normalize=False)"
      ]
     },
     "execution_count": 10,
     "metadata": {},
     "output_type": "execute_result"
    }
   ],
   "source": [
    "lm.fit(x_train,y_train)"
   ]
  },
  {
   "cell_type": "code",
   "execution_count": 11,
   "metadata": {},
   "outputs": [],
   "source": [
    "prediction=lm.predict(x_test)"
   ]
  },
  {
   "cell_type": "code",
   "execution_count": 12,
   "metadata": {},
   "outputs": [
    {
     "name": "stdout",
     "output_type": "stream",
     "text": [
      "Mean squared error : 62.29\n",
      "Variance score: 0.63\n"
     ]
    }
   ],
   "source": [
    "print(\"Mean squared error : %.2f\"\n",
    "      % mean_squared_error(y_test,prediction))\n",
    "\n",
    "\n",
    "print('Variance score: %.2f' % r2_score(y_test,prediction))"
   ]
  },
  {
   "cell_type": "code",
   "execution_count": 13,
   "metadata": {},
   "outputs": [],
   "source": [
    "bakery_sales_dataset=pd.read_csv(r'D:\\Thimantha\\Documents2\\Data Science\\Bakery-Sales-V18.csv')"
   ]
  },
  {
   "cell_type": "code",
   "execution_count": 14,
   "metadata": {},
   "outputs": [],
   "source": [
    "bakery_sales_dataset['Sales_Date']=pd.to_datetime(bakery_sales_dataset['Sales_Date'])"
   ]
  },
  {
   "cell_type": "code",
   "execution_count": 15,
   "metadata": {},
   "outputs": [],
   "source": [
    "bakery_sales_dataset['Sales_Date']=bakery_sales_dataset['Sales_Date'].map(dt.datetime.toordinal)"
   ]
  },
  {
   "cell_type": "code",
   "execution_count": 16,
   "metadata": {},
   "outputs": [],
   "source": [
    "bakery_sales_dataset['Sales_Item']=bakery_sales_dataset['Sales_Item'].map({'Coffee':0,'Bread':1,'Tea':2,'Cake':3,'Pastry':4,'Sandwich':5}).astype(int)"
   ]
  },
  {
   "cell_type": "code",
   "execution_count": 17,
   "metadata": {},
   "outputs": [],
   "source": [
    "x=bakery_sales_dataset.loc[:,['Sales_Date','Sales_Item']]"
   ]
  },
  {
   "cell_type": "code",
   "execution_count": 18,
   "metadata": {},
   "outputs": [],
   "source": [
    "y=bakery_sales_dataset.loc[:,['Quantity']]"
   ]
  },
  {
   "cell_type": "code",
   "execution_count": 19,
   "metadata": {},
   "outputs": [],
   "source": [
    "x_train,x_test,y_train,y_test=skms.train_test_split(x,y,test_size=1/4,random_state=0)"
   ]
  },
  {
   "cell_type": "code",
   "execution_count": 20,
   "metadata": {},
   "outputs": [],
   "source": [
    "lm=sklm.LinearRegression()"
   ]
  },
  {
   "cell_type": "code",
   "execution_count": 21,
   "metadata": {},
   "outputs": [
    {
     "data": {
      "text/plain": [
       "LinearRegression(copy_X=True, fit_intercept=True, n_jobs=None,\n",
       "         normalize=False)"
      ]
     },
     "execution_count": 21,
     "metadata": {},
     "output_type": "execute_result"
    }
   ],
   "source": [
    "lm.fit(x_train,y_train)"
   ]
  },
  {
   "cell_type": "code",
   "execution_count": 22,
   "metadata": {},
   "outputs": [],
   "source": [
    "prediction=lm.predict(x_test)"
   ]
  },
  {
   "cell_type": "code",
   "execution_count": 23,
   "metadata": {},
   "outputs": [
    {
     "name": "stdout",
     "output_type": "stream",
     "text": [
      "Mean squared error : 59.68\n",
      "Variance score: 0.62\n"
     ]
    }
   ],
   "source": [
    "print(\"Mean squared error : %.2f\"\n",
    "      % mean_squared_error(y_test,prediction))\n",
    "\n",
    "\n",
    "print('Variance score: %.2f' % r2_score(y_test,prediction))"
   ]
  },
  {
   "cell_type": "code",
   "execution_count": 24,
   "metadata": {},
   "outputs": [],
   "source": [
    "bakery_sales_dataset=pd.read_csv(r'D:\\Thimantha\\Documents2\\Data Science\\Bakery-Sales-V19.csv')"
   ]
  },
  {
   "cell_type": "code",
   "execution_count": 25,
   "metadata": {},
   "outputs": [],
   "source": [
    "bakery_sales_dataset['Sales_Date']=pd.to_datetime(bakery_sales_dataset['Sales_Date'])"
   ]
  },
  {
   "cell_type": "code",
   "execution_count": 26,
   "metadata": {},
   "outputs": [],
   "source": [
    "bakery_sales_dataset['Sales_Date']=bakery_sales_dataset['Sales_Date'].map(dt.datetime.toordinal)"
   ]
  },
  {
   "cell_type": "code",
   "execution_count": 28,
   "metadata": {},
   "outputs": [],
   "source": [
    "bakery_sales_dataset['Sales_Item']=bakery_sales_dataset['Sales_Item'].map({'Coffee':0,'Bread':1,'Tea':2,'Cake':3,'Pastry':4,'Sandwich':5,'Medialuna':6}).astype(int)"
   ]
  },
  {
   "cell_type": "code",
   "execution_count": 29,
   "metadata": {},
   "outputs": [],
   "source": [
    "x=bakery_sales_dataset.loc[:,['Sales_Date','Sales_Item']]"
   ]
  },
  {
   "cell_type": "code",
   "execution_count": 30,
   "metadata": {},
   "outputs": [],
   "source": [
    "y=bakery_sales_dataset.loc[:,['Quantity']]"
   ]
  },
  {
   "cell_type": "code",
   "execution_count": 31,
   "metadata": {},
   "outputs": [],
   "source": [
    "x_train,x_test,y_train,y_test=skms.train_test_split(x,y,test_size=1/4,random_state=0)"
   ]
  },
  {
   "cell_type": "code",
   "execution_count": 32,
   "metadata": {},
   "outputs": [],
   "source": [
    "lm=sklm.LinearRegression()"
   ]
  },
  {
   "cell_type": "code",
   "execution_count": 33,
   "metadata": {},
   "outputs": [
    {
     "data": {
      "text/plain": [
       "LinearRegression(copy_X=True, fit_intercept=True, n_jobs=None,\n",
       "         normalize=False)"
      ]
     },
     "execution_count": 33,
     "metadata": {},
     "output_type": "execute_result"
    }
   ],
   "source": [
    "lm.fit(x_train,y_train)"
   ]
  },
  {
   "cell_type": "code",
   "execution_count": 34,
   "metadata": {},
   "outputs": [],
   "source": [
    "prediction=lm.predict(x_test)"
   ]
  },
  {
   "cell_type": "code",
   "execution_count": 35,
   "metadata": {},
   "outputs": [
    {
     "name": "stdout",
     "output_type": "stream",
     "text": [
      "Mean squared error : 71.06\n",
      "Variance score: 0.55\n"
     ]
    }
   ],
   "source": [
    "print(\"Mean squared error : %.2f\"\n",
    "      % mean_squared_error(y_test,prediction))\n",
    "\n",
    "\n",
    "print('Variance score: %.2f' % r2_score(y_test,prediction))"
   ]
  },
  {
   "cell_type": "code",
   "execution_count": 36,
   "metadata": {},
   "outputs": [],
   "source": [
    "bakery_sales_dataset=pd.read_csv(r'D:\\Thimantha\\Documents2\\Data Science\\Bakery-Sales-V20.csv')"
   ]
  },
  {
   "cell_type": "code",
   "execution_count": 37,
   "metadata": {},
   "outputs": [],
   "source": [
    "bakery_sales_dataset['Sales_Date']=pd.to_datetime(bakery_sales_dataset['Sales_Date'])"
   ]
  },
  {
   "cell_type": "code",
   "execution_count": 38,
   "metadata": {},
   "outputs": [],
   "source": [
    "bakery_sales_dataset['Sales_Date']=bakery_sales_dataset['Sales_Date'].map(dt.datetime.toordinal)"
   ]
  },
  {
   "cell_type": "code",
   "execution_count": 39,
   "metadata": {},
   "outputs": [],
   "source": [
    "bakery_sales_dataset['Sales_Item']=bakery_sales_dataset['Sales_Item'].map({'Coffee':0,'Bread':1,'Tea':2,'Cake':3,'Pastry':4,'Sandwich':5,'Hot chocolate':6}).astype(int)"
   ]
  },
  {
   "cell_type": "code",
   "execution_count": 40,
   "metadata": {},
   "outputs": [],
   "source": [
    "x=bakery_sales_dataset.loc[:,['Sales_Date','Sales_Item']]"
   ]
  },
  {
   "cell_type": "code",
   "execution_count": 41,
   "metadata": {},
   "outputs": [],
   "source": [
    "y=bakery_sales_dataset.loc[:,['Quantity']]"
   ]
  },
  {
   "cell_type": "code",
   "execution_count": 42,
   "metadata": {},
   "outputs": [],
   "source": [
    "x_train,x_test,y_train,y_test=skms.train_test_split(x,y,test_size=1/4,random_state=0)"
   ]
  },
  {
   "cell_type": "code",
   "execution_count": 43,
   "metadata": {},
   "outputs": [],
   "source": [
    "lm=sklm.LinearRegression()"
   ]
  },
  {
   "cell_type": "code",
   "execution_count": 44,
   "metadata": {},
   "outputs": [
    {
     "data": {
      "text/plain": [
       "LinearRegression(copy_X=True, fit_intercept=True, n_jobs=None,\n",
       "         normalize=False)"
      ]
     },
     "execution_count": 44,
     "metadata": {},
     "output_type": "execute_result"
    }
   ],
   "source": [
    "lm.fit(x_train,y_train)"
   ]
  },
  {
   "cell_type": "code",
   "execution_count": 45,
   "metadata": {},
   "outputs": [],
   "source": [
    "prediction=lm.predict(x_test)"
   ]
  },
  {
   "cell_type": "code",
   "execution_count": 46,
   "metadata": {},
   "outputs": [
    {
     "name": "stdout",
     "output_type": "stream",
     "text": [
      "Mean squared error : 73.64\n",
      "Variance score: 0.56\n"
     ]
    }
   ],
   "source": [
    "print(\"Mean squared error : %.2f\"\n",
    "      % mean_squared_error(y_test,prediction))\n",
    "\n",
    "\n",
    "print('Variance score: %.2f' % r2_score(y_test,prediction))"
   ]
  },
  {
   "cell_type": "code",
   "execution_count": 47,
   "metadata": {},
   "outputs": [],
   "source": [
    "bakery_sales_dataset=pd.read_csv(r'D:\\Thimantha\\Documents2\\Data Science\\Bakery-Sales-V21.csv')"
   ]
  },
  {
   "cell_type": "code",
   "execution_count": 48,
   "metadata": {},
   "outputs": [],
   "source": [
    "bakery_sales_dataset['Sales_Date']=pd.to_datetime(bakery_sales_dataset['Sales_Date'])"
   ]
  },
  {
   "cell_type": "code",
   "execution_count": 49,
   "metadata": {},
   "outputs": [],
   "source": [
    "bakery_sales_dataset['Sales_Date']=bakery_sales_dataset['Sales_Date'].map(dt.datetime.toordinal)"
   ]
  },
  {
   "cell_type": "code",
   "execution_count": 50,
   "metadata": {},
   "outputs": [],
   "source": [
    "bakery_sales_dataset['Sales_Item']=bakery_sales_dataset['Sales_Item'].map({'Coffee':0,'Bread':1,'Tea':2,'Cake':3,'Pastry':4,'Sandwich':5,'Cookies':6}).astype(int)"
   ]
  },
  {
   "cell_type": "code",
   "execution_count": 51,
   "metadata": {},
   "outputs": [],
   "source": [
    "x=bakery_sales_dataset.loc[:,['Sales_Date','Sales_Item']]"
   ]
  },
  {
   "cell_type": "code",
   "execution_count": 52,
   "metadata": {},
   "outputs": [],
   "source": [
    "y=bakery_sales_dataset.loc[:,['Quantity']]"
   ]
  },
  {
   "cell_type": "code",
   "execution_count": 53,
   "metadata": {},
   "outputs": [],
   "source": [
    "x_train,x_test,y_train,y_test=skms.train_test_split(x,y,test_size=1/4,random_state=0)"
   ]
  },
  {
   "cell_type": "code",
   "execution_count": 54,
   "metadata": {},
   "outputs": [],
   "source": [
    "lm=sklm.LinearRegression()"
   ]
  },
  {
   "cell_type": "code",
   "execution_count": 55,
   "metadata": {},
   "outputs": [
    {
     "data": {
      "text/plain": [
       "LinearRegression(copy_X=True, fit_intercept=True, n_jobs=None,\n",
       "         normalize=False)"
      ]
     },
     "execution_count": 55,
     "metadata": {},
     "output_type": "execute_result"
    }
   ],
   "source": [
    "lm.fit(x_train,y_train)"
   ]
  },
  {
   "cell_type": "code",
   "execution_count": 56,
   "metadata": {},
   "outputs": [],
   "source": [
    "prediction=lm.predict(x_test)"
   ]
  },
  {
   "cell_type": "code",
   "execution_count": 57,
   "metadata": {},
   "outputs": [
    {
     "name": "stdout",
     "output_type": "stream",
     "text": [
      "Mean squared error : 58.15\n",
      "Variance score: 0.56\n"
     ]
    }
   ],
   "source": [
    "print(\"Mean squared error : %.2f\"\n",
    "      % mean_squared_error(y_test,prediction))\n",
    "\n",
    "\n",
    "print('Variance score: %.2f' % r2_score(y_test,prediction))"
   ]
  },
  {
   "cell_type": "code",
   "execution_count": 58,
   "metadata": {},
   "outputs": [],
   "source": [
    "bakery_sales_dataset=pd.read_csv(r'D:\\Thimantha\\Documents2\\Data Science\\Bakery-Sales-V22.csv')"
   ]
  },
  {
   "cell_type": "code",
   "execution_count": 59,
   "metadata": {},
   "outputs": [],
   "source": [
    "bakery_sales_dataset['Sales_Date']=pd.to_datetime(bakery_sales_dataset['Sales_Date'])"
   ]
  },
  {
   "cell_type": "code",
   "execution_count": 60,
   "metadata": {},
   "outputs": [],
   "source": [
    "bakery_sales_dataset['Sales_Date']=bakery_sales_dataset['Sales_Date'].map(dt.datetime.toordinal)"
   ]
  },
  {
   "cell_type": "code",
   "execution_count": 61,
   "metadata": {},
   "outputs": [],
   "source": [
    "bakery_sales_dataset['Sales_Item']=bakery_sales_dataset['Sales_Item'].map({'Coffee':0,'Bread':1,'Tea':2,'Cake':3,'Pastry':4,'Sandwich':5,'Brownie':6}).astype(int)"
   ]
  },
  {
   "cell_type": "code",
   "execution_count": 62,
   "metadata": {},
   "outputs": [],
   "source": [
    "x=bakery_sales_dataset.loc[:,['Sales_Date','Sales_Item']]"
   ]
  },
  {
   "cell_type": "code",
   "execution_count": 63,
   "metadata": {},
   "outputs": [],
   "source": [
    "y=bakery_sales_dataset.loc[:,['Quantity']]"
   ]
  },
  {
   "cell_type": "code",
   "execution_count": 64,
   "metadata": {},
   "outputs": [],
   "source": [
    "x_train,x_test,y_train,y_test=skms.train_test_split(x,y,test_size=1/4,random_state=0)"
   ]
  },
  {
   "cell_type": "code",
   "execution_count": 65,
   "metadata": {},
   "outputs": [],
   "source": [
    "lm=sklm.LinearRegression()"
   ]
  },
  {
   "cell_type": "code",
   "execution_count": 66,
   "metadata": {},
   "outputs": [
    {
     "data": {
      "text/plain": [
       "LinearRegression(copy_X=True, fit_intercept=True, n_jobs=None,\n",
       "         normalize=False)"
      ]
     },
     "execution_count": 66,
     "metadata": {},
     "output_type": "execute_result"
    }
   ],
   "source": [
    "lm.fit(x_train,y_train)"
   ]
  },
  {
   "cell_type": "code",
   "execution_count": 67,
   "metadata": {},
   "outputs": [],
   "source": [
    "prediction=lm.predict(x_test)"
   ]
  },
  {
   "cell_type": "code",
   "execution_count": 68,
   "metadata": {},
   "outputs": [
    {
     "name": "stdout",
     "output_type": "stream",
     "text": [
      "Mean squared error : 65.21\n",
      "Variance score: 0.61\n"
     ]
    }
   ],
   "source": [
    "print(\"Mean squared error : %.2f\"\n",
    "      % mean_squared_error(y_test,prediction))\n",
    "\n",
    "\n",
    "print('Variance score: %.2f' % r2_score(y_test,prediction))"
   ]
  },
  {
   "cell_type": "code",
   "execution_count": 69,
   "metadata": {},
   "outputs": [],
   "source": [
    "bakery_sales_dataset=pd.read_csv(r'D:\\Thimantha\\Documents2\\Data Science\\Bakery-Sales-V23.csv')"
   ]
  },
  {
   "cell_type": "code",
   "execution_count": 70,
   "metadata": {},
   "outputs": [],
   "source": [
    "bakery_sales_dataset['Sales_Date']=pd.to_datetime(bakery_sales_dataset['Sales_Date'])"
   ]
  },
  {
   "cell_type": "code",
   "execution_count": 71,
   "metadata": {},
   "outputs": [],
   "source": [
    "bakery_sales_dataset['Sales_Date']=bakery_sales_dataset['Sales_Date'].map(dt.datetime.toordinal)"
   ]
  },
  {
   "cell_type": "code",
   "execution_count": 72,
   "metadata": {},
   "outputs": [],
   "source": [
    "bakery_sales_dataset['Sales_Item']=bakery_sales_dataset['Sales_Item'].map({'Coffee':0,'Bread':1,'Tea':2,'Cake':3,'Pastry':4,'Sandwich':5,'Muffin':6}).astype(int)"
   ]
  },
  {
   "cell_type": "code",
   "execution_count": 73,
   "metadata": {},
   "outputs": [],
   "source": [
    "x=bakery_sales_dataset.loc[:,['Sales_Date','Sales_Item']]"
   ]
  },
  {
   "cell_type": "code",
   "execution_count": 74,
   "metadata": {},
   "outputs": [],
   "source": [
    "y=bakery_sales_dataset.loc[:,['Quantity']]"
   ]
  },
  {
   "cell_type": "code",
   "execution_count": 75,
   "metadata": {},
   "outputs": [],
   "source": [
    "x_train,x_test,y_train,y_test=skms.train_test_split(x,y,test_size=1/4,random_state=0)"
   ]
  },
  {
   "cell_type": "code",
   "execution_count": 76,
   "metadata": {},
   "outputs": [],
   "source": [
    "lm=sklm.LinearRegression()"
   ]
  },
  {
   "cell_type": "code",
   "execution_count": 77,
   "metadata": {},
   "outputs": [
    {
     "data": {
      "text/plain": [
       "LinearRegression(copy_X=True, fit_intercept=True, n_jobs=None,\n",
       "         normalize=False)"
      ]
     },
     "execution_count": 77,
     "metadata": {},
     "output_type": "execute_result"
    }
   ],
   "source": [
    "lm.fit(x_train,y_train)"
   ]
  },
  {
   "cell_type": "code",
   "execution_count": 78,
   "metadata": {},
   "outputs": [],
   "source": [
    "prediction=lm.predict(x_test)"
   ]
  },
  {
   "cell_type": "code",
   "execution_count": 79,
   "metadata": {},
   "outputs": [
    {
     "name": "stdout",
     "output_type": "stream",
     "text": [
      "Mean squared error : 71.59\n",
      "Variance score: 0.56\n"
     ]
    }
   ],
   "source": [
    "print(\"Mean squared error : %.2f\"\n",
    "      % mean_squared_error(y_test,prediction))\n",
    "\n",
    "\n",
    "print('Variance score: %.2f' % r2_score(y_test,prediction))"
   ]
  },
  {
   "cell_type": "code",
   "execution_count": null,
   "metadata": {},
   "outputs": [],
   "source": []
  }
 ],
 "metadata": {
  "kernelspec": {
   "display_name": "Python 3",
   "language": "python",
   "name": "python3"
  },
  "language_info": {
   "codemirror_mode": {
    "name": "ipython",
    "version": 3
   },
   "file_extension": ".py",
   "mimetype": "text/x-python",
   "name": "python",
   "nbconvert_exporter": "python",
   "pygments_lexer": "ipython3",
   "version": "3.7.1"
  }
 },
 "nbformat": 4,
 "nbformat_minor": 2
}
