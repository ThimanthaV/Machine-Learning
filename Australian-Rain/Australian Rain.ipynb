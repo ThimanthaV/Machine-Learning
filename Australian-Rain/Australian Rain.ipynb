{
 "cells": [
  {
   "cell_type": "code",
   "execution_count": 71,
   "metadata": {},
   "outputs": [],
   "source": [
    "import pandas as pd\n",
    "import numpy as np\n",
    "import matplotlib.pyplot as plt\n",
    "import datetime as dt\n",
    "import sklearn.preprocessing as skp\n",
    "import sklearn.model_selection as skms\n",
    "import sklearn.tree as skt\n",
    "from sklearn.ensemble import RandomForestClassifier\n",
    "from sklearn.linear_model import LogisticRegression\n",
    "from sklearn.metrics import accuracy_score"
   ]
  },
  {
   "cell_type": "code",
   "execution_count": 3,
   "metadata": {},
   "outputs": [],
   "source": [
    "weather_data=pd.read_csv(r'D:\\Thimantha\\Documents2\\Data Science\\weatherAUS.csv')"
   ]
  },
  {
   "cell_type": "code",
   "execution_count": 4,
   "metadata": {},
   "outputs": [
    {
     "data": {
      "text/plain": [
       "(142193, 24)"
      ]
     },
     "execution_count": 4,
     "metadata": {},
     "output_type": "execute_result"
    }
   ],
   "source": [
    "weather_data.shape"
   ]
  },
  {
   "cell_type": "code",
   "execution_count": 5,
   "metadata": {},
   "outputs": [
    {
     "data": {
      "text/html": [
       "<div>\n",
       "<style scoped>\n",
       "    .dataframe tbody tr th:only-of-type {\n",
       "        vertical-align: middle;\n",
       "    }\n",
       "\n",
       "    .dataframe tbody tr th {\n",
       "        vertical-align: top;\n",
       "    }\n",
       "\n",
       "    .dataframe thead th {\n",
       "        text-align: right;\n",
       "    }\n",
       "</style>\n",
       "<table border=\"1\" class=\"dataframe\">\n",
       "  <thead>\n",
       "    <tr style=\"text-align: right;\">\n",
       "      <th></th>\n",
       "      <th>Date</th>\n",
       "      <th>Location</th>\n",
       "      <th>MinTemp</th>\n",
       "      <th>MaxTemp</th>\n",
       "      <th>Rainfall</th>\n",
       "      <th>Evaporation</th>\n",
       "      <th>Sunshine</th>\n",
       "      <th>WindGustDir</th>\n",
       "      <th>WindGustSpeed</th>\n",
       "      <th>WindDir9am</th>\n",
       "      <th>...</th>\n",
       "      <th>Humidity3pm</th>\n",
       "      <th>Pressure9am</th>\n",
       "      <th>Pressure3pm</th>\n",
       "      <th>Cloud9am</th>\n",
       "      <th>Cloud3pm</th>\n",
       "      <th>Temp9am</th>\n",
       "      <th>Temp3pm</th>\n",
       "      <th>RainToday</th>\n",
       "      <th>RISK_MM</th>\n",
       "      <th>RainTomorrow</th>\n",
       "    </tr>\n",
       "  </thead>\n",
       "  <tbody>\n",
       "    <tr>\n",
       "      <th>0</th>\n",
       "      <td>2008-12-01</td>\n",
       "      <td>Albury</td>\n",
       "      <td>13.4</td>\n",
       "      <td>22.9</td>\n",
       "      <td>0.6</td>\n",
       "      <td>NaN</td>\n",
       "      <td>NaN</td>\n",
       "      <td>W</td>\n",
       "      <td>44.0</td>\n",
       "      <td>W</td>\n",
       "      <td>...</td>\n",
       "      <td>22.0</td>\n",
       "      <td>1007.7</td>\n",
       "      <td>1007.1</td>\n",
       "      <td>8.0</td>\n",
       "      <td>NaN</td>\n",
       "      <td>16.9</td>\n",
       "      <td>21.8</td>\n",
       "      <td>No</td>\n",
       "      <td>0.0</td>\n",
       "      <td>No</td>\n",
       "    </tr>\n",
       "    <tr>\n",
       "      <th>1</th>\n",
       "      <td>2008-12-02</td>\n",
       "      <td>Albury</td>\n",
       "      <td>7.4</td>\n",
       "      <td>25.1</td>\n",
       "      <td>0.0</td>\n",
       "      <td>NaN</td>\n",
       "      <td>NaN</td>\n",
       "      <td>WNW</td>\n",
       "      <td>44.0</td>\n",
       "      <td>NNW</td>\n",
       "      <td>...</td>\n",
       "      <td>25.0</td>\n",
       "      <td>1010.6</td>\n",
       "      <td>1007.8</td>\n",
       "      <td>NaN</td>\n",
       "      <td>NaN</td>\n",
       "      <td>17.2</td>\n",
       "      <td>24.3</td>\n",
       "      <td>No</td>\n",
       "      <td>0.0</td>\n",
       "      <td>No</td>\n",
       "    </tr>\n",
       "    <tr>\n",
       "      <th>2</th>\n",
       "      <td>2008-12-03</td>\n",
       "      <td>Albury</td>\n",
       "      <td>12.9</td>\n",
       "      <td>25.7</td>\n",
       "      <td>0.0</td>\n",
       "      <td>NaN</td>\n",
       "      <td>NaN</td>\n",
       "      <td>WSW</td>\n",
       "      <td>46.0</td>\n",
       "      <td>W</td>\n",
       "      <td>...</td>\n",
       "      <td>30.0</td>\n",
       "      <td>1007.6</td>\n",
       "      <td>1008.7</td>\n",
       "      <td>NaN</td>\n",
       "      <td>2.0</td>\n",
       "      <td>21.0</td>\n",
       "      <td>23.2</td>\n",
       "      <td>No</td>\n",
       "      <td>0.0</td>\n",
       "      <td>No</td>\n",
       "    </tr>\n",
       "    <tr>\n",
       "      <th>3</th>\n",
       "      <td>2008-12-04</td>\n",
       "      <td>Albury</td>\n",
       "      <td>9.2</td>\n",
       "      <td>28.0</td>\n",
       "      <td>0.0</td>\n",
       "      <td>NaN</td>\n",
       "      <td>NaN</td>\n",
       "      <td>NE</td>\n",
       "      <td>24.0</td>\n",
       "      <td>SE</td>\n",
       "      <td>...</td>\n",
       "      <td>16.0</td>\n",
       "      <td>1017.6</td>\n",
       "      <td>1012.8</td>\n",
       "      <td>NaN</td>\n",
       "      <td>NaN</td>\n",
       "      <td>18.1</td>\n",
       "      <td>26.5</td>\n",
       "      <td>No</td>\n",
       "      <td>1.0</td>\n",
       "      <td>No</td>\n",
       "    </tr>\n",
       "    <tr>\n",
       "      <th>4</th>\n",
       "      <td>2008-12-05</td>\n",
       "      <td>Albury</td>\n",
       "      <td>17.5</td>\n",
       "      <td>32.3</td>\n",
       "      <td>1.0</td>\n",
       "      <td>NaN</td>\n",
       "      <td>NaN</td>\n",
       "      <td>W</td>\n",
       "      <td>41.0</td>\n",
       "      <td>ENE</td>\n",
       "      <td>...</td>\n",
       "      <td>33.0</td>\n",
       "      <td>1010.8</td>\n",
       "      <td>1006.0</td>\n",
       "      <td>7.0</td>\n",
       "      <td>8.0</td>\n",
       "      <td>17.8</td>\n",
       "      <td>29.7</td>\n",
       "      <td>No</td>\n",
       "      <td>0.2</td>\n",
       "      <td>No</td>\n",
       "    </tr>\n",
       "    <tr>\n",
       "      <th>5</th>\n",
       "      <td>2008-12-06</td>\n",
       "      <td>Albury</td>\n",
       "      <td>14.6</td>\n",
       "      <td>29.7</td>\n",
       "      <td>0.2</td>\n",
       "      <td>NaN</td>\n",
       "      <td>NaN</td>\n",
       "      <td>WNW</td>\n",
       "      <td>56.0</td>\n",
       "      <td>W</td>\n",
       "      <td>...</td>\n",
       "      <td>23.0</td>\n",
       "      <td>1009.2</td>\n",
       "      <td>1005.4</td>\n",
       "      <td>NaN</td>\n",
       "      <td>NaN</td>\n",
       "      <td>20.6</td>\n",
       "      <td>28.9</td>\n",
       "      <td>No</td>\n",
       "      <td>0.0</td>\n",
       "      <td>No</td>\n",
       "    </tr>\n",
       "    <tr>\n",
       "      <th>6</th>\n",
       "      <td>2008-12-07</td>\n",
       "      <td>Albury</td>\n",
       "      <td>14.3</td>\n",
       "      <td>25.0</td>\n",
       "      <td>0.0</td>\n",
       "      <td>NaN</td>\n",
       "      <td>NaN</td>\n",
       "      <td>W</td>\n",
       "      <td>50.0</td>\n",
       "      <td>SW</td>\n",
       "      <td>...</td>\n",
       "      <td>19.0</td>\n",
       "      <td>1009.6</td>\n",
       "      <td>1008.2</td>\n",
       "      <td>1.0</td>\n",
       "      <td>NaN</td>\n",
       "      <td>18.1</td>\n",
       "      <td>24.6</td>\n",
       "      <td>No</td>\n",
       "      <td>0.0</td>\n",
       "      <td>No</td>\n",
       "    </tr>\n",
       "    <tr>\n",
       "      <th>7</th>\n",
       "      <td>2008-12-08</td>\n",
       "      <td>Albury</td>\n",
       "      <td>7.7</td>\n",
       "      <td>26.7</td>\n",
       "      <td>0.0</td>\n",
       "      <td>NaN</td>\n",
       "      <td>NaN</td>\n",
       "      <td>W</td>\n",
       "      <td>35.0</td>\n",
       "      <td>SSE</td>\n",
       "      <td>...</td>\n",
       "      <td>19.0</td>\n",
       "      <td>1013.4</td>\n",
       "      <td>1010.1</td>\n",
       "      <td>NaN</td>\n",
       "      <td>NaN</td>\n",
       "      <td>16.3</td>\n",
       "      <td>25.5</td>\n",
       "      <td>No</td>\n",
       "      <td>0.0</td>\n",
       "      <td>No</td>\n",
       "    </tr>\n",
       "    <tr>\n",
       "      <th>8</th>\n",
       "      <td>2008-12-09</td>\n",
       "      <td>Albury</td>\n",
       "      <td>9.7</td>\n",
       "      <td>31.9</td>\n",
       "      <td>0.0</td>\n",
       "      <td>NaN</td>\n",
       "      <td>NaN</td>\n",
       "      <td>NNW</td>\n",
       "      <td>80.0</td>\n",
       "      <td>SE</td>\n",
       "      <td>...</td>\n",
       "      <td>9.0</td>\n",
       "      <td>1008.9</td>\n",
       "      <td>1003.6</td>\n",
       "      <td>NaN</td>\n",
       "      <td>NaN</td>\n",
       "      <td>18.3</td>\n",
       "      <td>30.2</td>\n",
       "      <td>No</td>\n",
       "      <td>1.4</td>\n",
       "      <td>Yes</td>\n",
       "    </tr>\n",
       "    <tr>\n",
       "      <th>9</th>\n",
       "      <td>2008-12-10</td>\n",
       "      <td>Albury</td>\n",
       "      <td>13.1</td>\n",
       "      <td>30.1</td>\n",
       "      <td>1.4</td>\n",
       "      <td>NaN</td>\n",
       "      <td>NaN</td>\n",
       "      <td>W</td>\n",
       "      <td>28.0</td>\n",
       "      <td>S</td>\n",
       "      <td>...</td>\n",
       "      <td>27.0</td>\n",
       "      <td>1007.0</td>\n",
       "      <td>1005.7</td>\n",
       "      <td>NaN</td>\n",
       "      <td>NaN</td>\n",
       "      <td>20.1</td>\n",
       "      <td>28.2</td>\n",
       "      <td>Yes</td>\n",
       "      <td>0.0</td>\n",
       "      <td>No</td>\n",
       "    </tr>\n",
       "  </tbody>\n",
       "</table>\n",
       "<p>10 rows × 24 columns</p>\n",
       "</div>"
      ],
      "text/plain": [
       "         Date Location  MinTemp  MaxTemp  Rainfall  Evaporation  Sunshine  \\\n",
       "0  2008-12-01   Albury     13.4     22.9       0.6          NaN       NaN   \n",
       "1  2008-12-02   Albury      7.4     25.1       0.0          NaN       NaN   \n",
       "2  2008-12-03   Albury     12.9     25.7       0.0          NaN       NaN   \n",
       "3  2008-12-04   Albury      9.2     28.0       0.0          NaN       NaN   \n",
       "4  2008-12-05   Albury     17.5     32.3       1.0          NaN       NaN   \n",
       "5  2008-12-06   Albury     14.6     29.7       0.2          NaN       NaN   \n",
       "6  2008-12-07   Albury     14.3     25.0       0.0          NaN       NaN   \n",
       "7  2008-12-08   Albury      7.7     26.7       0.0          NaN       NaN   \n",
       "8  2008-12-09   Albury      9.7     31.9       0.0          NaN       NaN   \n",
       "9  2008-12-10   Albury     13.1     30.1       1.4          NaN       NaN   \n",
       "\n",
       "  WindGustDir  WindGustSpeed WindDir9am      ...      Humidity3pm  \\\n",
       "0           W           44.0          W      ...             22.0   \n",
       "1         WNW           44.0        NNW      ...             25.0   \n",
       "2         WSW           46.0          W      ...             30.0   \n",
       "3          NE           24.0         SE      ...             16.0   \n",
       "4           W           41.0        ENE      ...             33.0   \n",
       "5         WNW           56.0          W      ...             23.0   \n",
       "6           W           50.0         SW      ...             19.0   \n",
       "7           W           35.0        SSE      ...             19.0   \n",
       "8         NNW           80.0         SE      ...              9.0   \n",
       "9           W           28.0          S      ...             27.0   \n",
       "\n",
       "   Pressure9am  Pressure3pm  Cloud9am  Cloud3pm  Temp9am  Temp3pm  RainToday  \\\n",
       "0       1007.7       1007.1       8.0       NaN     16.9     21.8         No   \n",
       "1       1010.6       1007.8       NaN       NaN     17.2     24.3         No   \n",
       "2       1007.6       1008.7       NaN       2.0     21.0     23.2         No   \n",
       "3       1017.6       1012.8       NaN       NaN     18.1     26.5         No   \n",
       "4       1010.8       1006.0       7.0       8.0     17.8     29.7         No   \n",
       "5       1009.2       1005.4       NaN       NaN     20.6     28.9         No   \n",
       "6       1009.6       1008.2       1.0       NaN     18.1     24.6         No   \n",
       "7       1013.4       1010.1       NaN       NaN     16.3     25.5         No   \n",
       "8       1008.9       1003.6       NaN       NaN     18.3     30.2         No   \n",
       "9       1007.0       1005.7       NaN       NaN     20.1     28.2        Yes   \n",
       "\n",
       "   RISK_MM  RainTomorrow  \n",
       "0      0.0            No  \n",
       "1      0.0            No  \n",
       "2      0.0            No  \n",
       "3      1.0            No  \n",
       "4      0.2            No  \n",
       "5      0.0            No  \n",
       "6      0.0            No  \n",
       "7      0.0            No  \n",
       "8      1.4           Yes  \n",
       "9      0.0            No  \n",
       "\n",
       "[10 rows x 24 columns]"
      ]
     },
     "execution_count": 5,
     "metadata": {},
     "output_type": "execute_result"
    }
   ],
   "source": [
    "weather_data.head(10)"
   ]
  },
  {
   "cell_type": "code",
   "execution_count": 6,
   "metadata": {},
   "outputs": [],
   "source": [
    "weather_data=weather_data.loc[:,['Date','MinTemp','MaxTemp','Rainfall','WindGustSpeed','Humidity3pm','Pressure9am','Pressure3pm','Temp9am','Temp3pm','RISK_MM','RainTomorrow']]"
   ]
  },
  {
   "cell_type": "code",
   "execution_count": 7,
   "metadata": {},
   "outputs": [
    {
     "data": {
      "text/plain": [
       "Date              object\n",
       "MinTemp          float64\n",
       "MaxTemp          float64\n",
       "Rainfall         float64\n",
       "WindGustSpeed    float64\n",
       "Humidity3pm      float64\n",
       "Pressure9am      float64\n",
       "Pressure3pm      float64\n",
       "Temp9am          float64\n",
       "Temp3pm          float64\n",
       "RISK_MM          float64\n",
       "RainTomorrow      object\n",
       "dtype: object"
      ]
     },
     "execution_count": 7,
     "metadata": {},
     "output_type": "execute_result"
    }
   ],
   "source": [
    "weather_data.dtypes"
   ]
  },
  {
   "cell_type": "code",
   "execution_count": 8,
   "metadata": {},
   "outputs": [],
   "source": [
    "weather_data['Date']=pd.to_datetime(weather_data['Date'])"
   ]
  },
  {
   "cell_type": "code",
   "execution_count": 9,
   "metadata": {},
   "outputs": [],
   "source": [
    "weather_data['Date']=weather_data['Date'].map(dt.datetime.toordinal)"
   ]
  },
  {
   "cell_type": "code",
   "execution_count": 10,
   "metadata": {},
   "outputs": [
    {
     "data": {
      "text/plain": [
       "Date               int64\n",
       "MinTemp          float64\n",
       "MaxTemp          float64\n",
       "Rainfall         float64\n",
       "WindGustSpeed    float64\n",
       "Humidity3pm      float64\n",
       "Pressure9am      float64\n",
       "Pressure3pm      float64\n",
       "Temp9am          float64\n",
       "Temp3pm          float64\n",
       "RISK_MM          float64\n",
       "RainTomorrow      object\n",
       "dtype: object"
      ]
     },
     "execution_count": 10,
     "metadata": {},
     "output_type": "execute_result"
    }
   ],
   "source": [
    "weather_data.dtypes"
   ]
  },
  {
   "cell_type": "code",
   "execution_count": 11,
   "metadata": {},
   "outputs": [
    {
     "data": {
      "text/html": [
       "<div>\n",
       "<style scoped>\n",
       "    .dataframe tbody tr th:only-of-type {\n",
       "        vertical-align: middle;\n",
       "    }\n",
       "\n",
       "    .dataframe tbody tr th {\n",
       "        vertical-align: top;\n",
       "    }\n",
       "\n",
       "    .dataframe thead th {\n",
       "        text-align: right;\n",
       "    }\n",
       "</style>\n",
       "<table border=\"1\" class=\"dataframe\">\n",
       "  <thead>\n",
       "    <tr style=\"text-align: right;\">\n",
       "      <th></th>\n",
       "      <th>Date</th>\n",
       "      <th>MinTemp</th>\n",
       "      <th>MaxTemp</th>\n",
       "      <th>Rainfall</th>\n",
       "      <th>WindGustSpeed</th>\n",
       "      <th>Humidity3pm</th>\n",
       "      <th>Pressure9am</th>\n",
       "      <th>Pressure3pm</th>\n",
       "      <th>Temp9am</th>\n",
       "      <th>Temp3pm</th>\n",
       "      <th>RISK_MM</th>\n",
       "      <th>RainTomorrow</th>\n",
       "    </tr>\n",
       "  </thead>\n",
       "  <tbody>\n",
       "    <tr>\n",
       "      <th>0</th>\n",
       "      <td>733377</td>\n",
       "      <td>13.4</td>\n",
       "      <td>22.9</td>\n",
       "      <td>0.6</td>\n",
       "      <td>44.0</td>\n",
       "      <td>22.0</td>\n",
       "      <td>1007.7</td>\n",
       "      <td>1007.1</td>\n",
       "      <td>16.9</td>\n",
       "      <td>21.8</td>\n",
       "      <td>0.0</td>\n",
       "      <td>No</td>\n",
       "    </tr>\n",
       "    <tr>\n",
       "      <th>1</th>\n",
       "      <td>733378</td>\n",
       "      <td>7.4</td>\n",
       "      <td>25.1</td>\n",
       "      <td>0.0</td>\n",
       "      <td>44.0</td>\n",
       "      <td>25.0</td>\n",
       "      <td>1010.6</td>\n",
       "      <td>1007.8</td>\n",
       "      <td>17.2</td>\n",
       "      <td>24.3</td>\n",
       "      <td>0.0</td>\n",
       "      <td>No</td>\n",
       "    </tr>\n",
       "    <tr>\n",
       "      <th>2</th>\n",
       "      <td>733379</td>\n",
       "      <td>12.9</td>\n",
       "      <td>25.7</td>\n",
       "      <td>0.0</td>\n",
       "      <td>46.0</td>\n",
       "      <td>30.0</td>\n",
       "      <td>1007.6</td>\n",
       "      <td>1008.7</td>\n",
       "      <td>21.0</td>\n",
       "      <td>23.2</td>\n",
       "      <td>0.0</td>\n",
       "      <td>No</td>\n",
       "    </tr>\n",
       "    <tr>\n",
       "      <th>3</th>\n",
       "      <td>733380</td>\n",
       "      <td>9.2</td>\n",
       "      <td>28.0</td>\n",
       "      <td>0.0</td>\n",
       "      <td>24.0</td>\n",
       "      <td>16.0</td>\n",
       "      <td>1017.6</td>\n",
       "      <td>1012.8</td>\n",
       "      <td>18.1</td>\n",
       "      <td>26.5</td>\n",
       "      <td>1.0</td>\n",
       "      <td>No</td>\n",
       "    </tr>\n",
       "    <tr>\n",
       "      <th>4</th>\n",
       "      <td>733381</td>\n",
       "      <td>17.5</td>\n",
       "      <td>32.3</td>\n",
       "      <td>1.0</td>\n",
       "      <td>41.0</td>\n",
       "      <td>33.0</td>\n",
       "      <td>1010.8</td>\n",
       "      <td>1006.0</td>\n",
       "      <td>17.8</td>\n",
       "      <td>29.7</td>\n",
       "      <td>0.2</td>\n",
       "      <td>No</td>\n",
       "    </tr>\n",
       "  </tbody>\n",
       "</table>\n",
       "</div>"
      ],
      "text/plain": [
       "     Date  MinTemp  MaxTemp  Rainfall  WindGustSpeed  Humidity3pm  \\\n",
       "0  733377     13.4     22.9       0.6           44.0         22.0   \n",
       "1  733378      7.4     25.1       0.0           44.0         25.0   \n",
       "2  733379     12.9     25.7       0.0           46.0         30.0   \n",
       "3  733380      9.2     28.0       0.0           24.0         16.0   \n",
       "4  733381     17.5     32.3       1.0           41.0         33.0   \n",
       "\n",
       "   Pressure9am  Pressure3pm  Temp9am  Temp3pm  RISK_MM RainTomorrow  \n",
       "0       1007.7       1007.1     16.9     21.8      0.0           No  \n",
       "1       1010.6       1007.8     17.2     24.3      0.0           No  \n",
       "2       1007.6       1008.7     21.0     23.2      0.0           No  \n",
       "3       1017.6       1012.8     18.1     26.5      1.0           No  \n",
       "4       1010.8       1006.0     17.8     29.7      0.2           No  "
      ]
     },
     "execution_count": 11,
     "metadata": {},
     "output_type": "execute_result"
    }
   ],
   "source": [
    "weather_data.head()"
   ]
  },
  {
   "cell_type": "code",
   "execution_count": 12,
   "metadata": {},
   "outputs": [
    {
     "data": {
      "text/plain": [
       "(142193, 12)"
      ]
     },
     "execution_count": 12,
     "metadata": {},
     "output_type": "execute_result"
    }
   ],
   "source": [
    "weather_data.shape"
   ]
  },
  {
   "cell_type": "code",
   "execution_count": 41,
   "metadata": {},
   "outputs": [],
   "source": [
    "weather_data=weather_data[pd.notnull(weather_data['Date'])]"
   ]
  },
  {
   "cell_type": "code",
   "execution_count": 42,
   "metadata": {},
   "outputs": [],
   "source": [
    "weather_data=weather_data[pd.notnull(weather_data['MinTemp'])]"
   ]
  },
  {
   "cell_type": "code",
   "execution_count": 43,
   "metadata": {},
   "outputs": [],
   "source": [
    "weather_data=weather_data[pd.notnull(weather_data['MaxTemp'])]"
   ]
  },
  {
   "cell_type": "code",
   "execution_count": 44,
   "metadata": {},
   "outputs": [],
   "source": [
    "weather_data=weather_data[pd.notnull(weather_data['Rainfall'])]"
   ]
  },
  {
   "cell_type": "code",
   "execution_count": 45,
   "metadata": {},
   "outputs": [],
   "source": [
    "weather_data=weather_data[pd.notnull(weather_data['WindGustSpeed'])]"
   ]
  },
  {
   "cell_type": "code",
   "execution_count": 46,
   "metadata": {},
   "outputs": [],
   "source": [
    "weather_data=weather_data[pd.notnull(weather_data['Humidity3pm'])]"
   ]
  },
  {
   "cell_type": "code",
   "execution_count": 47,
   "metadata": {},
   "outputs": [],
   "source": [
    "weather_data=weather_data[pd.notnull(weather_data['Pressure9am'])]"
   ]
  },
  {
   "cell_type": "code",
   "execution_count": 48,
   "metadata": {},
   "outputs": [],
   "source": [
    "weather_data=weather_data[pd.notnull(weather_data['Pressure3pm'])]"
   ]
  },
  {
   "cell_type": "code",
   "execution_count": 49,
   "metadata": {},
   "outputs": [],
   "source": [
    "weather_data=weather_data[pd.notnull(weather_data['Temp9am'])]"
   ]
  },
  {
   "cell_type": "code",
   "execution_count": 50,
   "metadata": {},
   "outputs": [],
   "source": [
    "weather_data=weather_data[pd.notnull(weather_data['Temp3pm'])]"
   ]
  },
  {
   "cell_type": "code",
   "execution_count": 51,
   "metadata": {},
   "outputs": [],
   "source": [
    "weather_data=weather_data[pd.notnull(weather_data['RISK_MM'])]"
   ]
  },
  {
   "cell_type": "code",
   "execution_count": 52,
   "metadata": {},
   "outputs": [],
   "source": [
    "x=weather_data.loc[:,['Date','MinTemp','MaxTemp','Rainfall','WindGustSpeed','Humidity3pm','Pressure9am','Pressure3pm','Temp9am','Temp3pm','RISK_MM']]"
   ]
  },
  {
   "cell_type": "code",
   "execution_count": 53,
   "metadata": {},
   "outputs": [
    {
     "name": "stdout",
     "output_type": "stream",
     "text": [
      "          Date  MinTemp  MaxTemp  Rainfall  WindGustSpeed  Humidity3pm  \\\n",
      "0       733377     13.4     22.9       0.6           44.0         22.0   \n",
      "1       733378      7.4     25.1       0.0           44.0         25.0   \n",
      "2       733379     12.9     25.7       0.0           46.0         30.0   \n",
      "3       733380      9.2     28.0       0.0           24.0         16.0   \n",
      "4       733381     17.5     32.3       1.0           41.0         33.0   \n",
      "5       733382     14.6     29.7       0.2           56.0         23.0   \n",
      "6       733383     14.3     25.0       0.0           50.0         19.0   \n",
      "7       733384      7.7     26.7       0.0           35.0         19.0   \n",
      "8       733385      9.7     31.9       0.0           80.0          9.0   \n",
      "9       733386     13.1     30.1       1.4           28.0         27.0   \n",
      "10      733387     13.4     30.4       0.0           30.0         22.0   \n",
      "11      733388     15.9     21.7       2.2           31.0         91.0   \n",
      "12      733389     15.9     18.6      15.6           61.0         93.0   \n",
      "13      733390     12.6     21.0       3.6           44.0         43.0   \n",
      "15      733393     14.1     20.9       0.0           22.0         82.0   \n",
      "16      733394     13.5     22.9      16.8           63.0         65.0   \n",
      "17      733395     11.2     22.5      10.6           43.0         32.0   \n",
      "18      733396      9.8     25.6       0.0           26.0         26.0   \n",
      "19      733397     11.5     29.3       0.0           24.0         28.0   \n",
      "20      733398     17.1     33.0       0.0           43.0         28.0   \n",
      "21      733399     20.5     31.8       0.0           41.0         24.0   \n",
      "22      733400     15.3     30.9       0.0           33.0         23.0   \n",
      "23      733401     12.6     32.4       0.0           43.0         17.0   \n",
      "24      733402     16.2     33.9       0.0           35.0         19.0   \n",
      "25      733403     16.9     33.0       0.0           57.0         28.0   \n",
      "26      733404     20.1     32.7       0.0           48.0         15.0   \n",
      "27      733405     19.7     27.2       0.0           46.0         22.0   \n",
      "28      733406     12.5     24.2       1.2           50.0         70.0   \n",
      "29      733407     12.0     24.4       0.8           39.0         28.0   \n",
      "30      733408     11.3     26.5       0.0           56.0         26.0   \n",
      "...        ...      ...      ...       ...            ...          ...   \n",
      "142163  736475     14.3     27.6       0.4           39.0         27.0   \n",
      "142164  736476      9.3     28.0       0.0           28.0         16.0   \n",
      "142165  736477      8.0     24.6       0.0           33.0         25.0   \n",
      "142166  736478     12.7     22.2       0.0           37.0         34.0   \n",
      "142167  736479      9.4     22.7       0.0           35.0         32.0   \n",
      "142168  736480      5.4     20.5       0.0           46.0         32.0   \n",
      "142169  736481      5.6     19.4       0.0           43.0         22.0   \n",
      "142170  736482      1.5     19.2       0.0           37.0         18.0   \n",
      "142171  736483      3.8     19.8       0.0           39.0         22.0   \n",
      "142172  736484      4.5     18.8       0.0           31.0         26.0   \n",
      "142173  736485      4.9     20.7       0.0           37.0         11.0   \n",
      "142174  736486      1.2     20.8       0.0           43.0          6.0   \n",
      "142175  736487      0.5     21.7       0.0           43.0         19.0   \n",
      "142176  736488      4.0     20.0       0.0           39.0         26.0   \n",
      "142177  736489      3.4     19.8       0.0           43.0         23.0   \n",
      "142178  736490      3.2     18.6       0.0           46.0         29.0   \n",
      "142179  736491      2.4     19.1       0.0           33.0         24.0   \n",
      "142180  736492      5.1     19.7       0.0           46.0         29.0   \n",
      "142181  736493      2.5     21.2       0.0           35.0         32.0   \n",
      "142182  736494      2.3     21.4       0.0           22.0         28.0   \n",
      "142183  736495      2.6     22.5       0.0           19.0         24.0   \n",
      "142184  736496      5.2     24.3       0.0           24.0         24.0   \n",
      "142185  736497      6.4     23.4       0.0           31.0         25.0   \n",
      "142186  736498      8.0     20.7       0.0           41.0         32.0   \n",
      "142187  736499      7.4     20.6       0.0           35.0         33.0   \n",
      "142188  736500      3.5     21.8       0.0           31.0         27.0   \n",
      "142189  736501      2.8     23.4       0.0           31.0         24.0   \n",
      "142190  736502      3.6     25.3       0.0           22.0         21.0   \n",
      "142191  736503      5.4     26.9       0.0           37.0         24.0   \n",
      "142192  736504      7.8     27.0       0.0           28.0         24.0   \n",
      "\n",
      "        Pressure9am  Pressure3pm  Temp9am  Temp3pm  RISK_MM  \n",
      "0            1007.7       1007.1     16.9     21.8      0.0  \n",
      "1            1010.6       1007.8     17.2     24.3      0.0  \n",
      "2            1007.6       1008.7     21.0     23.2      0.0  \n",
      "3            1017.6       1012.8     18.1     26.5      1.0  \n",
      "4            1010.8       1006.0     17.8     29.7      0.2  \n",
      "5            1009.2       1005.4     20.6     28.9      0.0  \n",
      "6            1009.6       1008.2     18.1     24.6      0.0  \n",
      "7            1013.4       1010.1     16.3     25.5      0.0  \n",
      "8            1008.9       1003.6     18.3     30.2      1.4  \n",
      "9            1007.0       1005.7     20.1     28.2      0.0  \n",
      "10           1011.8       1008.7     20.4     28.8      2.2  \n",
      "11           1010.5       1004.2     15.9     17.0     15.6  \n",
      "12            994.3        993.0     17.4     15.8      3.6  \n",
      "13           1001.2       1001.8     15.8     19.8      0.0  \n",
      "15           1012.2       1010.4     17.2     18.1     16.8  \n",
      "16           1005.8       1002.2     18.0     21.5     10.6  \n",
      "17           1009.4       1009.7     15.5     21.0      0.0  \n",
      "18           1019.2       1017.1     15.8     23.2      0.0  \n",
      "19           1019.3       1014.8     19.1     27.3      0.0  \n",
      "20           1013.6       1008.1     24.5     31.6      0.0  \n",
      "21           1007.8       1005.7     23.8     30.8      0.0  \n",
      "22           1011.0       1008.2     20.9     29.0      0.0  \n",
      "23           1012.9       1010.1     21.5     31.2      0.0  \n",
      "24           1010.9       1007.6     23.2     33.0      0.0  \n",
      "25           1006.8       1003.6     26.6     31.2      0.0  \n",
      "26           1005.2       1001.7     24.6     32.1      0.0  \n",
      "27           1004.8       1004.2     21.6     26.1      1.2  \n",
      "28           1005.6       1003.4     12.5     18.2      0.8  \n",
      "29           1006.1       1005.1     16.9     22.7      0.0  \n",
      "30           1004.5       1003.2     19.7     25.7      0.0  \n",
      "...             ...          ...      ...      ...      ...  \n",
      "142163       1020.5       1016.1     16.1     27.2      0.0  \n",
      "142164       1019.9       1016.9     16.6     27.3      0.0  \n",
      "142165       1021.7       1018.8     13.8     23.5      0.0  \n",
      "142166       1024.3       1021.7     13.9     21.0      0.0  \n",
      "142167       1026.6       1023.6     11.8     22.3      0.0  \n",
      "142168       1029.2       1025.3     11.1     20.2      0.0  \n",
      "142169       1029.6       1027.1      9.7     18.3      0.0  \n",
      "142170       1030.7       1026.7      6.8     17.6      0.0  \n",
      "142171       1028.7       1024.1      8.6     18.9      0.0  \n",
      "142172       1026.9       1022.4      9.5     18.6      0.0  \n",
      "142173       1027.1       1023.9     10.3     19.8      0.0  \n",
      "142174       1029.8       1025.9      7.9     19.9      0.0  \n",
      "142175       1029.0       1025.0      9.5     20.5      0.0  \n",
      "142176       1030.2       1026.7      9.1     19.0      0.0  \n",
      "142177       1031.8       1027.7      8.7     18.9      0.0  \n",
      "142178       1031.0       1027.2      8.2     17.4      0.0  \n",
      "142179       1030.0       1026.2      8.0     18.8      0.0  \n",
      "142180       1028.5       1025.8      8.5     19.2      0.0  \n",
      "142181       1027.2       1023.0     10.3     20.3      0.0  \n",
      "142182       1026.9       1022.8      8.9     20.3      0.0  \n",
      "142183       1025.0       1021.4      8.8     22.1      0.0  \n",
      "142184       1023.8       1020.0     12.3     23.3      0.0  \n",
      "142185       1025.8       1023.0     11.2     23.1      0.0  \n",
      "142186       1028.1       1024.3     11.6     20.0      0.0  \n",
      "142187       1027.2       1023.3     11.0     20.3      0.0  \n",
      "142188       1024.7       1021.2      9.4     20.9      0.0  \n",
      "142189       1024.6       1020.3     10.1     22.4      0.0  \n",
      "142190       1023.5       1019.1     10.9     24.5      0.0  \n",
      "142191       1021.0       1016.8     12.5     26.1      0.0  \n",
      "142192       1019.4       1016.5     15.1     26.0      0.0  \n",
      "\n",
      "[119810 rows x 11 columns]\n"
     ]
    }
   ],
   "source": [
    "print(x)"
   ]
  },
  {
   "cell_type": "code",
   "execution_count": 54,
   "metadata": {},
   "outputs": [],
   "source": [
    "y=weather_data.loc[:,['RainTomorrow']]"
   ]
  },
  {
   "cell_type": "code",
   "execution_count": 55,
   "metadata": {},
   "outputs": [
    {
     "name": "stdout",
     "output_type": "stream",
     "text": [
      "[0 0 0 ... 0 0 0]\n"
     ]
    },
    {
     "name": "stderr",
     "output_type": "stream",
     "text": [
      "C:\\Users\\thimanthav.BRANDIXLK\\AppData\\Local\\Continuum\\anaconda3\\lib\\site-packages\\sklearn\\preprocessing\\label.py:235: DataConversionWarning: A column-vector y was passed when a 1d array was expected. Please change the shape of y to (n_samples, ), for example using ravel().\n",
      "  y = column_or_1d(y, warn=True)\n"
     ]
    }
   ],
   "source": [
    "labelencoder_y = skp.LabelEncoder()\n",
    "y = labelencoder_y.fit_transform(y)\n",
    "print(y)"
   ]
  },
  {
   "cell_type": "code",
   "execution_count": 56,
   "metadata": {},
   "outputs": [
    {
     "name": "stdout",
     "output_type": "stream",
     "text": [
      "          Date  MinTemp  MaxTemp  Rainfall  WindGustSpeed  Humidity3pm  \\\n",
      "28574   735580     15.1     23.4       0.0           39.0         50.0   \n",
      "18434   734190     18.6     23.1       0.6           63.0         57.0   \n",
      "72552   736302     14.5     32.5       0.0           59.0         75.0   \n",
      "41514   733525      9.5     20.5       0.0           48.0         33.0   \n",
      "130435  733950     -2.2     11.0       0.0            7.0         53.0   \n",
      "81584   736396     11.1     34.5       0.0           28.0         19.0   \n",
      "113820  735616     17.4     33.3       0.0           41.0         15.0   \n",
      "137673  735065     20.0     32.7       0.0           56.0         20.0   \n",
      "72460   736210      5.8     14.3       0.0           57.0         77.0   \n",
      "138372  735764     23.4     32.7       0.0           33.0         58.0   \n",
      "73124   733776     11.4     20.2       0.0           28.0         54.0   \n",
      "20425   736313     18.7     19.1       0.0           46.0        100.0   \n",
      "109091  733517     14.0     23.1       0.0           31.0         55.0   \n",
      "118816  734363     13.6     18.9      18.0           56.0         48.0   \n",
      "4146    734615     12.7     19.8       1.2           11.0         92.0   \n",
      "9379    733861     19.5     28.3       0.0           44.0         68.0   \n",
      "103059  733489     13.4     30.7       0.0           35.0         16.0   \n",
      "57365   734040      3.1     18.7       0.0           39.0         42.0   \n",
      "73962   734650     10.2     14.3       4.2           33.0         67.0   \n",
      "109958  734436     13.2     22.2       0.2           24.0         67.0   \n",
      "10563   735137     17.2     33.5       0.0           52.0         32.0   \n",
      "18228   733975      7.9     14.8       1.6           70.0         70.0   \n",
      "131477  735084      4.9     12.9      17.4           33.0         51.0   \n",
      "29291   736299     14.7     34.6       1.8           39.0         25.0   \n",
      "21439   734260     16.2     23.4       0.2           19.0         62.0   \n",
      "56072   735874      9.8     27.7       0.0           54.0         28.0   \n",
      "109177  733607      8.4     14.9      55.0           61.0         56.0   \n",
      "79557   734307      9.6     15.2       0.6           48.0         99.0   \n",
      "37340   734998      7.9     25.3       0.0           20.0         27.0   \n",
      "37922   735580     10.9     28.2       0.0           43.0         28.0   \n",
      "...        ...      ...      ...       ...            ...          ...   \n",
      "47827   733435     16.7     36.2       0.0           37.0         26.0   \n",
      "7197    734700      2.5     17.0       0.0           20.0         47.0   \n",
      "124587  734171     14.2     24.7       0.0           43.0         69.0   \n",
      "109408  733839     13.7     26.5       0.0           44.0         52.0   \n",
      "95603   735129     11.5     16.9       5.2           56.0         55.0   \n",
      "118296  733813     20.3     24.6       0.0           30.0         70.0   \n",
      "102985  733415     15.2     31.4       0.0           56.0         14.0   \n",
      "138388  735780     19.3     32.7       0.0           39.0         31.0   \n",
      "128815  735456      2.5     10.6       5.6           48.0         53.0   \n",
      "22949   735829     13.8     19.6       0.0           30.0         69.0   \n",
      "40722   735807      5.0     16.6       0.0           43.0         37.0   \n",
      "21029   733819     18.7     25.4       0.0           30.0         52.0   \n",
      "93249   735893     18.1     29.5       0.0           35.0         53.0   \n",
      "64933   735694      7.5     17.7       0.0           28.0         37.0   \n",
      "48571   734202     11.3     20.8       0.0           30.0         49.0   \n",
      "60742   734444      7.6     17.2       1.8           44.0         52.0   \n",
      "94062   733448     13.7     21.1       0.0           43.0         33.0   \n",
      "93536   736180     13.1     23.5       0.0           46.0         28.0   \n",
      "133836  734353      5.9     27.2       0.0           46.0         14.0   \n",
      "67459   735228     17.7     27.6       0.0           54.0         30.0   \n",
      "99504   736024      9.8     32.1       0.0           46.0         21.0   \n",
      "53997   733700      8.1     25.2       0.0           48.0         36.0   \n",
      "114679  736486     11.8     25.8       0.0           43.0         14.0   \n",
      "112853  734449     14.8     21.2       9.0           65.0         70.0   \n",
      "28297   735299     16.8     29.9       0.0           26.0         54.0   \n",
      "57997   734702      3.1     12.2       1.0           35.0         45.0   \n",
      "139546  735366     17.4     34.3       0.0           46.0         35.0   \n",
      "54643   734383      7.4     17.6       0.0           70.0         53.0   \n",
      "55615   735415      3.7      9.4       1.2           30.0         85.0   \n",
      "81097   735907     14.1     23.9       8.8           28.0         71.0   \n",
      "\n",
      "        Pressure9am  Pressure3pm  Temp9am  Temp3pm  RISK_MM  \n",
      "28574        1018.5       1016.2     19.6     22.4      0.0  \n",
      "18434        1021.0       1021.8     22.0     22.2      1.8  \n",
      "72552        1008.2       1009.1     23.6     21.0      2.0  \n",
      "41514        1014.9       1015.5     16.0     19.4      0.0  \n",
      "130435       1023.3       1020.0      0.1     10.2      0.4  \n",
      "81584        1016.7       1013.4     15.5     33.3      0.0  \n",
      "113820       1008.8       1009.7     25.8     32.2      0.0  \n",
      "137673       1014.1       1009.7     24.3     32.1      0.0  \n",
      "72460        1010.9       1010.8     10.1     12.8      1.8  \n",
      "138372       1013.8       1009.6     26.2     30.1      0.0  \n",
      "73124        1018.9       1016.5     16.2     19.2      0.0  \n",
      "20425        1015.7       1016.1     19.0     17.6     27.0  \n",
      "109091       1016.3       1013.6     18.3     21.7      0.0  \n",
      "118816       1012.3       1013.4     14.7     18.4      2.8  \n",
      "4146         1014.5       1011.2     15.6     19.3      1.6  \n",
      "9379         1018.7       1015.7     24.9     26.1      0.0  \n",
      "103059       1015.1       1012.2     16.6     28.6      0.0  \n",
      "57365        1016.3       1014.9     12.2     18.1      0.0  \n",
      "73962        1027.3       1027.7     11.8     12.5      0.0  \n",
      "109958       1011.4       1008.9     16.0     21.8      1.0  \n",
      "10563        1010.7       1005.3     29.6     33.0      0.0  \n",
      "18228        1028.1       1027.5     11.0     13.9     15.2  \n",
      "131477       1002.1       1004.2      9.0     12.2      0.0  \n",
      "29291        1008.0       1003.8     19.4     31.8      0.2  \n",
      "21439        1013.1       1011.7     21.9     22.1      0.2  \n",
      "56072        1029.4       1023.0     17.4     25.7      0.0  \n",
      "109177       1006.4       1001.5     12.1     13.9     17.6  \n",
      "79557        1009.8       1006.7     12.5     13.3      9.4  \n",
      "37340        1031.4       1027.4     11.9     24.4      0.0  \n",
      "37922        1017.7       1012.5     19.6     26.1      0.0  \n",
      "...             ...          ...      ...      ...      ...  \n",
      "47827        1016.9       1013.3     23.1     35.1      0.0  \n",
      "7197         1030.3       1026.7      9.9     16.0      0.0  \n",
      "124587       1013.1       1011.1     20.7     23.5      0.0  \n",
      "109408       1024.5       1021.3     20.4     24.4      0.0  \n",
      "95603        1006.2       1008.0     15.1     15.6      0.0  \n",
      "118296       1015.7       1014.2     21.2     23.9      0.0  \n",
      "102985       1015.8       1014.2     18.4     28.3      0.0  \n",
      "138388       1018.3       1013.5     24.7     32.1      0.0  \n",
      "128815       1027.5       1027.3      6.7      9.9      0.0  \n",
      "22949        1022.2       1021.5     17.8     17.4      0.0  \n",
      "40722        1033.2       1030.9      9.1     15.8      0.0  \n",
      "21029        1016.3       1014.1     23.1     25.0      0.0  \n",
      "93249        1017.5       1013.5     27.0     28.3      0.0  \n",
      "64933        1007.1       1005.6     13.5     17.0      0.0  \n",
      "48571        1026.9       1024.9     13.1     19.2      0.0  \n",
      "60742        1015.3       1014.9     12.7     15.5      0.0  \n",
      "94062        1021.5       1020.3     16.0     19.2      0.0  \n",
      "93536        1018.4       1014.7     16.4     22.4      0.0  \n",
      "133836       1019.2       1015.1     16.6     26.4      0.0  \n",
      "67459        1010.0       1009.0     22.6     27.4      0.0  \n",
      "99504        1016.3       1014.3     17.0     30.9      0.0  \n",
      "53997        1018.9       1016.1     14.7     23.4      0.0  \n",
      "114679       1024.5       1020.8     18.5     24.4      0.0  \n",
      "112853       1009.1       1010.7     19.3     17.0      1.4  \n",
      "28297        1020.3       1017.7     19.9     27.5      0.0  \n",
      "57997        1019.1       1017.9      6.5     11.7      0.0  \n",
      "139546       1015.1       1010.7     24.5     33.5      0.0  \n",
      "54643        1021.9       1017.3     11.6     16.9      0.0  \n",
      "55615        1028.5       1029.0      6.4      9.3      0.0  \n",
      "81097        1004.8       1003.9     17.0     22.9      1.4  \n",
      "\n",
      "[89857 rows x 11 columns]\n"
     ]
    }
   ],
   "source": [
    "x_train,x_test,y_train,y_test=skms.train_test_split(x,y,test_size=1/4,random_state=0)\n",
    "print(x_train)"
   ]
  },
  {
   "cell_type": "code",
   "execution_count": 59,
   "metadata": {},
   "outputs": [],
   "source": [
    "#Decision Tree Classifier\n",
    "dtc=skt.DecisionTreeClassifier()\n",
    "dtc.fit(x_train,y_train)\n",
    "dtc_prediction=dtc.predict(x_test)"
   ]
  },
  {
   "cell_type": "code",
   "execution_count": 68,
   "metadata": {},
   "outputs": [
    {
     "name": "stderr",
     "output_type": "stream",
     "text": [
      "C:\\Users\\thimanthav.BRANDIXLK\\AppData\\Local\\Continuum\\anaconda3\\lib\\site-packages\\sklearn\\ensemble\\forest.py:246: FutureWarning: The default value of n_estimators will change from 10 in version 0.20 to 100 in 0.22.\n",
      "  \"10 in version 0.20 to 100 in 0.22.\", FutureWarning)\n"
     ]
    }
   ],
   "source": [
    "#RandomForestClassifier\n",
    "rfc=RandomForestClassifier()\n",
    "rfc.fit(x_train,y_train)\n",
    "rfc_prediction=rfc.predict(x_test)"
   ]
  },
  {
   "cell_type": "code",
   "execution_count": 70,
   "metadata": {},
   "outputs": [
    {
     "name": "stderr",
     "output_type": "stream",
     "text": [
      "C:\\Users\\thimanthav.BRANDIXLK\\AppData\\Local\\Continuum\\anaconda3\\lib\\site-packages\\sklearn\\linear_model\\logistic.py:433: FutureWarning: Default solver will be changed to 'lbfgs' in 0.22. Specify a solver to silence this warning.\n",
      "  FutureWarning)\n"
     ]
    }
   ],
   "source": [
    "#LogisticRegression\n",
    "lr=LogisticRegression()\n",
    "lr.fit(x_train,y_train)\n",
    "lr_prediction=lr.predict(x_test)"
   ]
  },
  {
   "cell_type": "code",
   "execution_count": 73,
   "metadata": {},
   "outputs": [],
   "source": [
    "#accuracy scores\n",
    "dtc_tree_acc = accuracy_score(dtc_prediction,y_test)\n",
    "rfc_acc = accuracy_score(rfc_prediction,y_test)\n",
    "lr_acc = accuracy_score(lr_prediction,y_test)"
   ]
  },
  {
   "cell_type": "code",
   "execution_count": 74,
   "metadata": {},
   "outputs": [
    {
     "name": "stdout",
     "output_type": "stream",
     "text": [
      "Decision Tree is the best classifier for this problem\n"
     ]
    }
   ],
   "source": [
    "classifiers = ['Decision Tree', 'Random Forest', 'Logistic Regression']\n",
    "accuracy = np.array([dtc_tree_acc, rfc_acc, lr_acc])\n",
    "max_acc = np.argmax(accuracy)\n",
    "print(classifiers[max_acc] + ' is the best classifier for this problem')"
   ]
  },
  {
   "cell_type": "code",
   "execution_count": 75,
   "metadata": {},
   "outputs": [
    {
     "name": "stdout",
     "output_type": "stream",
     "text": [
      "[1.         1.         0.78135746]\n"
     ]
    }
   ],
   "source": [
    "print(accuracy)"
   ]
  },
  {
   "cell_type": "code",
   "execution_count": null,
   "metadata": {},
   "outputs": [],
   "source": []
  }
 ],
 "metadata": {
  "kernelspec": {
   "display_name": "Python 3",
   "language": "python",
   "name": "python3"
  },
  "language_info": {
   "codemirror_mode": {
    "name": "ipython",
    "version": 3
   },
   "file_extension": ".py",
   "mimetype": "text/x-python",
   "name": "python",
   "nbconvert_exporter": "python",
   "pygments_lexer": "ipython3",
   "version": "3.7.3"
  }
 },
 "nbformat": 4,
 "nbformat_minor": 2
}
